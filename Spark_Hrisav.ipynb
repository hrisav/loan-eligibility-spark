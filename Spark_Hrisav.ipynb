{
  "nbformat": 4,
  "nbformat_minor": 0,
  "metadata": {
    "colab": {
      "name": "Spark - Hrisav.ipynb",
      "provenance": [],
      "collapsed_sections": [],
      "toc_visible": true
    },
    "kernelspec": {
      "name": "python3",
      "display_name": "Python 3"
    }
  },
  "cells": [
    {
      "cell_type": "markdown",
      "metadata": {
        "id": "nEf_HAR9-g3C"
      },
      "source": [
        "## Spark environment"
      ]
    },
    {
      "cell_type": "code",
      "metadata": {
        "id": "gBsBXBH2yOtf"
      },
      "source": [
        "!apt-get update > /dev/null #linux system update\r\n",
        "!apt-get install openjdk-8-jdk-headless -qq > /dev/null # installing Java 8"
      ],
      "execution_count": null,
      "outputs": []
    },
    {
      "cell_type": "code",
      "metadata": {
        "id": "TstUq7NsWfUz"
      },
      "source": [
        "!wget -q http://apache.osuosl.org/spark/spark-3.0.1/spark-3.0.1-bin-hadoop3.2.tgz # downloading Apache Spark"
      ],
      "execution_count": null,
      "outputs": []
    },
    {
      "cell_type": "code",
      "metadata": {
        "id": "bqJYDf93Wh_e"
      },
      "source": [
        "!tar xf spark-3.0.1-bin-hadoop3.2.tgz #unzipping\r\n",
        "!pip install -q findspark # using Findspark to locate the spark in the system"
      ],
      "execution_count": null,
      "outputs": []
    },
    {
      "cell_type": "code",
      "metadata": {
        "colab": {
          "base_uri": "https://localhost:8080/"
        },
        "id": "Irw-FZzXWj7s",
        "outputId": "f75df08d-a96b-4a53-da0e-c9b22f966c60"
      },
      "source": [
        "ls"
      ],
      "execution_count": null,
      "outputs": [
        {
          "output_type": "stream",
          "text": [
            "\u001b[0m\u001b[01;34msample_data\u001b[0m/  \u001b[01;34mspark-3.0.1-bin-hadoop3.2\u001b[0m/  spark-3.0.1-bin-hadoop3.2.tgz\n"
          ],
          "name": "stdout"
        }
      ]
    },
    {
      "cell_type": "code",
      "metadata": {
        "id": "RzIMU-AKWl0B"
      },
      "source": [
        "# set environment path for java and spark that enables us to run PySpark in Colab\r\n",
        "\r\n",
        "import os\r\n",
        "os.environ[\"JAVA_HOME\"] = \"/usr/lib/jvm/java-8-openjdk-amd64\" \r\n",
        "os.environ[\"SPARK_HOME\"] = \"/content/spark-3.0.1-bin-hadoop3.2\""
      ],
      "execution_count": null,
      "outputs": []
    },
    {
      "cell_type": "code",
      "metadata": {
        "id": "Y3v9e9ryWo1r"
      },
      "source": [
        "import findspark\r\n",
        "findspark.init() #it will search spark and set it in system path"
      ],
      "execution_count": null,
      "outputs": []
    },
    {
      "cell_type": "code",
      "metadata": {
        "id": "3tdr0DZ1Wq9m"
      },
      "source": [
        "# run a local spark session to test our installation\r\n",
        "\r\n",
        "from pyspark.sql import SparkSession #to work in spark we need spark context\r\n",
        "# note UI port switched from default 4040 to 4050 to avoid clash with ngrok\r\n",
        "spark = SparkSession.builder.master(\"local[*]\").config('spark.ui.port', '4050').getOrCreate() #spark instance, either create it or get and create"
      ],
      "execution_count": null,
      "outputs": []
    },
    {
      "cell_type": "code",
      "metadata": {
        "colab": {
          "base_uri": "https://localhost:8080/",
          "height": 193
        },
        "id": "XF0dg6DKWtmc",
        "outputId": "dc8bcf8f-ca28-4e5e-a7ac-6d73c3985aae"
      },
      "source": [
        "sc = spark.sparkContext\r\n",
        "sc"
      ],
      "execution_count": null,
      "outputs": [
        {
          "output_type": "execute_result",
          "data": {
            "text/html": [
              "\n",
              "        <div>\n",
              "            <p><b>SparkContext</b></p>\n",
              "\n",
              "            <p><a href=\"http://be4e7a54843c:4050\">Spark UI</a></p>\n",
              "\n",
              "            <dl>\n",
              "              <dt>Version</dt>\n",
              "                <dd><code>v3.0.1</code></dd>\n",
              "              <dt>Master</dt>\n",
              "                <dd><code>local[*]</code></dd>\n",
              "              <dt>AppName</dt>\n",
              "                <dd><code>pyspark-shell</code></dd>\n",
              "            </dl>\n",
              "        </div>\n",
              "        "
            ],
            "text/plain": [
              "<SparkContext master=local[*] appName=pyspark-shell>"
            ]
          },
          "metadata": {
            "tags": []
          },
          "execution_count": 8
        }
      ]
    },
    {
      "cell_type": "markdown",
      "metadata": {
        "id": "Irm6euoL0keX"
      },
      "source": [
        "Colab is ready to run PySpark."
      ]
    },
    {
      "cell_type": "markdown",
      "metadata": {
        "id": "l8MtrehD-abk"
      },
      "source": [
        "## Getting data"
      ]
    },
    {
      "cell_type": "code",
      "metadata": {
        "id": "b3EVLU1LWx3_"
      },
      "source": [
        "!wget -q https://raw.githubusercontent.com/hrisav/loan-eligibility/main/loan_acceptance_data.csv #Getting the file"
      ],
      "execution_count": null,
      "outputs": []
    },
    {
      "cell_type": "code",
      "metadata": {
        "colab": {
          "base_uri": "https://localhost:8080/"
        },
        "id": "RTCcPhT3W6Ny",
        "outputId": "a712246b-d1ae-467e-90ed-a8995756a54e"
      },
      "source": [
        "ls"
      ],
      "execution_count": null,
      "outputs": [
        {
          "output_type": "stream",
          "text": [
            "loan_acceptance_data.csv  \u001b[0m\u001b[01;34mspark-3.0.1-bin-hadoop3.2\u001b[0m/\n",
            "\u001b[01;34msample_data\u001b[0m/              spark-3.0.1-bin-hadoop3.2.tgz\n"
          ],
          "name": "stdout"
        }
      ]
    },
    {
      "cell_type": "code",
      "metadata": {
        "id": "Ebj-1HMlh14j"
      },
      "source": [
        "df=spark.read.csv('/content/loan_acceptance_data.csv',inferSchema=True,header=True)"
      ],
      "execution_count": null,
      "outputs": []
    },
    {
      "cell_type": "code",
      "metadata": {
        "colab": {
          "base_uri": "https://localhost:8080/"
        },
        "id": "31rconUjiN2o",
        "outputId": "cc54c1f2-3805-4912-ca5b-da66756df454"
      },
      "source": [
        "print((df.count(),len(df.columns)))"
      ],
      "execution_count": null,
      "outputs": [
        {
          "output_type": "stream",
          "text": [
            "(614, 13)\n"
          ],
          "name": "stdout"
        }
      ]
    },
    {
      "cell_type": "code",
      "metadata": {
        "colab": {
          "base_uri": "https://localhost:8080/"
        },
        "id": "pITbvC_diRMS",
        "outputId": "cfd8e7b7-c21b-498c-f73a-804aa644d3ee"
      },
      "source": [
        "df.printSchema()"
      ],
      "execution_count": null,
      "outputs": [
        {
          "output_type": "stream",
          "text": [
            "root\n",
            " |-- Loan_ID: string (nullable = true)\n",
            " |-- Gender: string (nullable = true)\n",
            " |-- Married: string (nullable = true)\n",
            " |-- Dependents: string (nullable = true)\n",
            " |-- Education: string (nullable = true)\n",
            " |-- Self_Employed: string (nullable = true)\n",
            " |-- ApplicantIncome: integer (nullable = true)\n",
            " |-- CoapplicantIncome: double (nullable = true)\n",
            " |-- LoanAmount: integer (nullable = true)\n",
            " |-- Loan_Amount_Term: integer (nullable = true)\n",
            " |-- Credit_History: integer (nullable = true)\n",
            " |-- Property_Area: string (nullable = true)\n",
            " |-- Loan_Status: string (nullable = true)\n",
            "\n"
          ],
          "name": "stdout"
        }
      ]
    },
    {
      "cell_type": "code",
      "metadata": {
        "colab": {
          "base_uri": "https://localhost:8080/"
        },
        "id": "NdL25JAGiUqw",
        "outputId": "9ec9a63a-c51e-4e98-db71-90176562f725"
      },
      "source": [
        "df.show(5)"
      ],
      "execution_count": null,
      "outputs": [
        {
          "output_type": "stream",
          "text": [
            "+--------+------+-------+----------+------------+-------------+---------------+-----------------+----------+----------------+--------------+-------------+-----------+\n",
            "| Loan_ID|Gender|Married|Dependents|   Education|Self_Employed|ApplicantIncome|CoapplicantIncome|LoanAmount|Loan_Amount_Term|Credit_History|Property_Area|Loan_Status|\n",
            "+--------+------+-------+----------+------------+-------------+---------------+-----------------+----------+----------------+--------------+-------------+-----------+\n",
            "|LP001002|  Male|     No|         0|    Graduate|           No|           5849|              0.0|      null|             360|             1|        Urban|          Y|\n",
            "|LP001003|  Male|    Yes|         1|    Graduate|           No|           4583|           1508.0|       128|             360|             1|        Rural|          N|\n",
            "|LP001005|  Male|    Yes|         0|    Graduate|          Yes|           3000|              0.0|        66|             360|             1|        Urban|          Y|\n",
            "|LP001006|  Male|    Yes|         0|Not Graduate|           No|           2583|           2358.0|       120|             360|             1|        Urban|          Y|\n",
            "|LP001008|  Male|     No|         0|    Graduate|           No|           6000|              0.0|       141|             360|             1|        Urban|          Y|\n",
            "+--------+------+-------+----------+------------+-------------+---------------+-----------------+----------+----------------+--------------+-------------+-----------+\n",
            "only showing top 5 rows\n",
            "\n"
          ],
          "name": "stdout"
        }
      ]
    },
    {
      "cell_type": "code",
      "metadata": {
        "colab": {
          "base_uri": "https://localhost:8080/"
        },
        "id": "OjHhWID8iXMi",
        "outputId": "f55d5d26-acfe-446e-9ae5-72dc024cccb5"
      },
      "source": [
        "df.dtypes"
      ],
      "execution_count": null,
      "outputs": [
        {
          "output_type": "execute_result",
          "data": {
            "text/plain": [
              "[('Loan_ID', 'string'),\n",
              " ('Gender', 'string'),\n",
              " ('Married', 'string'),\n",
              " ('Dependents', 'string'),\n",
              " ('Education', 'string'),\n",
              " ('Self_Employed', 'string'),\n",
              " ('ApplicantIncome', 'int'),\n",
              " ('CoapplicantIncome', 'double'),\n",
              " ('LoanAmount', 'int'),\n",
              " ('Loan_Amount_Term', 'int'),\n",
              " ('Credit_History', 'int'),\n",
              " ('Property_Area', 'string'),\n",
              " ('Loan_Status', 'string')]"
            ]
          },
          "metadata": {
            "tags": []
          },
          "execution_count": 15
        }
      ]
    },
    {
      "cell_type": "code",
      "metadata": {
        "colab": {
          "base_uri": "https://localhost:8080/"
        },
        "id": "j9jDe6WIie1K",
        "outputId": "79e79ba2-47e1-417e-b3ce-c6812baa8323"
      },
      "source": [
        "df.describe().show()"
      ],
      "execution_count": null,
      "outputs": [
        {
          "output_type": "stream",
          "text": [
            "+-------+--------+------+-------+------------------+------------+-------------+-----------------+------------------+------------------+-----------------+------------------+-------------+-----------+\n",
            "|summary| Loan_ID|Gender|Married|        Dependents|   Education|Self_Employed|  ApplicantIncome| CoapplicantIncome|        LoanAmount| Loan_Amount_Term|    Credit_History|Property_Area|Loan_Status|\n",
            "+-------+--------+------+-------+------------------+------------+-------------+-----------------+------------------+------------------+-----------------+------------------+-------------+-----------+\n",
            "|  count|     614|   601|    611|               599|         614|          582|              614|               614|               592|              600|               564|          614|        614|\n",
            "|   mean|    null|  null|   null|0.5547445255474452|        null|         null|5403.459283387622| 1621.245798027101|146.41216216216216|            342.0|0.8421985815602837|         null|       null|\n",
            "| stddev|    null|  null|   null|0.7853289861674311|        null|         null|6109.041673387181|2926.2483692241894| 85.58732523570545|65.12040985461255|0.3648783192364052|         null|       null|\n",
            "|    min|LP001002|Female|     No|                 0|    Graduate|           No|              150|               0.0|                 9|               12|                 0|        Rural|          N|\n",
            "|    max|LP002990|  Male|    Yes|                3+|Not Graduate|          Yes|            81000|           41667.0|               700|              480|                 1|        Urban|          Y|\n",
            "+-------+--------+------+-------+------------------+------------+-------------+-----------------+------------------+------------------+-----------------+------------------+-------------+-----------+\n",
            "\n"
          ],
          "name": "stdout"
        }
      ]
    },
    {
      "cell_type": "code",
      "metadata": {
        "colab": {
          "base_uri": "https://localhost:8080/"
        },
        "id": "jGf_jjejkT9L",
        "outputId": "bf4d4a81-e396-4811-bb7e-6c70039930b3"
      },
      "source": [
        "df = df.drop(*['Loan_ID'])\r\n",
        "df.show(5)"
      ],
      "execution_count": null,
      "outputs": [
        {
          "output_type": "stream",
          "text": [
            "+------+-------+----------+------------+-------------+---------------+-----------------+----------+----------------+--------------+-------------+-----------+\n",
            "|Gender|Married|Dependents|   Education|Self_Employed|ApplicantIncome|CoapplicantIncome|LoanAmount|Loan_Amount_Term|Credit_History|Property_Area|Loan_Status|\n",
            "+------+-------+----------+------------+-------------+---------------+-----------------+----------+----------------+--------------+-------------+-----------+\n",
            "|  Male|     No|         0|    Graduate|           No|           5849|              0.0|      null|             360|             1|        Urban|          Y|\n",
            "|  Male|    Yes|         1|    Graduate|           No|           4583|           1508.0|       128|             360|             1|        Rural|          N|\n",
            "|  Male|    Yes|         0|    Graduate|          Yes|           3000|              0.0|        66|             360|             1|        Urban|          Y|\n",
            "|  Male|    Yes|         0|Not Graduate|           No|           2583|           2358.0|       120|             360|             1|        Urban|          Y|\n",
            "|  Male|     No|         0|    Graduate|           No|           6000|              0.0|       141|             360|             1|        Urban|          Y|\n",
            "+------+-------+----------+------------+-------------+---------------+-----------------+----------+----------------+--------------+-------------+-----------+\n",
            "only showing top 5 rows\n",
            "\n"
          ],
          "name": "stdout"
        }
      ]
    },
    {
      "cell_type": "markdown",
      "metadata": {
        "id": "GLQvT5APwWbG"
      },
      "source": [
        "## Handling Missing Values"
      ]
    },
    {
      "cell_type": "code",
      "metadata": {
        "colab": {
          "base_uri": "https://localhost:8080/"
        },
        "id": "qOLzzbOVixEk",
        "outputId": "7b1499b8-16b3-4e50-be07-ef8defa2924a"
      },
      "source": [
        "# null values in each column\r\n",
        "\r\n",
        "from pyspark.sql.functions import col,sum\r\n",
        "\r\n",
        "df.select(*(sum(col(c).isNull().cast(\"int\")).alias(c) for c in df.columns)).show()"
      ],
      "execution_count": null,
      "outputs": [
        {
          "output_type": "stream",
          "text": [
            "+------+-------+----------+---------+-------------+---------------+-----------------+----------+----------------+--------------+-------------+-----------+\n",
            "|Gender|Married|Dependents|Education|Self_Employed|ApplicantIncome|CoapplicantIncome|LoanAmount|Loan_Amount_Term|Credit_History|Property_Area|Loan_Status|\n",
            "+------+-------+----------+---------+-------------+---------------+-----------------+----------+----------------+--------------+-------------+-----------+\n",
            "|    13|      3|        15|        0|           32|              0|                0|        22|              14|            50|            0|          0|\n",
            "+------+-------+----------+---------+-------------+---------------+-----------------+----------+----------------+--------------+-------------+-----------+\n",
            "\n"
          ],
          "name": "stdout"
        }
      ]
    },
    {
      "cell_type": "code",
      "metadata": {
        "colab": {
          "base_uri": "https://localhost:8080/"
        },
        "id": "WDt8RB48sr4z",
        "outputId": "0c2ede01-a62d-49d6-d254-042f16fbd0df"
      },
      "source": [
        "from pyspark.sql.functions import mean\r\n",
        "\r\n",
        "mean_val = df.select(mean(df.LoanAmount)).collect()\r\n",
        "\r\n",
        "print('Mean value of Loan Amount', mean_val[0][0])"
      ],
      "execution_count": null,
      "outputs": [
        {
          "output_type": "stream",
          "text": [
            "Mean value of Loan Amount 146.41216216216216\n"
          ],
          "name": "stdout"
        }
      ]
    },
    {
      "cell_type": "code",
      "metadata": {
        "colab": {
          "base_uri": "https://localhost:8080/"
        },
        "id": "8BrumGMAvLeg",
        "outputId": "19b4ca56-b89c-401c-91cb-c258ede43616"
      },
      "source": [
        "mean_val"
      ],
      "execution_count": null,
      "outputs": [
        {
          "output_type": "execute_result",
          "data": {
            "text/plain": [
              "[Row(avg(LoanAmount)=146.41216216216216)]"
            ]
          },
          "metadata": {
            "tags": []
          },
          "execution_count": 20
        }
      ]
    },
    {
      "cell_type": "code",
      "metadata": {
        "colab": {
          "base_uri": "https://localhost:8080/"
        },
        "id": "AuRpf7gVu_ff",
        "outputId": "8d82e2de-f113-460e-f28b-8f37d260c1c2"
      },
      "source": [
        "# using mean_loan_amount value to fill the nulls in LoanAmount column\r\n",
        "\r\n",
        "mean_loan_amount = mean_val[0][0]\r\n",
        "\r\n",
        "df = df.na.fill(mean_loan_amount, subset=['LoanAmount'])\r\n",
        "\r\n",
        "mean_val = df.select(mean(df.LoanAmount)).collect()\r\n",
        "print('New Mean value of Loan Amount', mean_val[0][0])"
      ],
      "execution_count": null,
      "outputs": [
        {
          "output_type": "stream",
          "text": [
            "New Mean value of Loan Amount 146.3973941368078\n"
          ],
          "name": "stdout"
        }
      ]
    },
    {
      "cell_type": "code",
      "metadata": {
        "colab": {
          "base_uri": "https://localhost:8080/"
        },
        "id": "CvRVqDQRJzp3",
        "outputId": "bb5893e7-3d7a-485c-df70-05621c189786"
      },
      "source": [
        "from pyspark.sql.functions import isnan, when, count, col\r\n",
        "\r\n",
        "df.select([count(when(col('Loan_Amount_Term').isNull(),True)).alias('Loan_Amount_Term')]).show()"
      ],
      "execution_count": null,
      "outputs": [
        {
          "output_type": "stream",
          "text": [
            "+----------------+\n",
            "|Loan_Amount_Term|\n",
            "+----------------+\n",
            "|              14|\n",
            "+----------------+\n",
            "\n"
          ],
          "name": "stdout"
        }
      ]
    },
    {
      "cell_type": "code",
      "metadata": {
        "colab": {
          "base_uri": "https://localhost:8080/"
        },
        "id": "cWU_mwtS_YbP",
        "outputId": "d7a8acf9-1a91-4fb9-d5ae-ac031f8b2c1a"
      },
      "source": [
        "median_loan_term = df.approxQuantile(\"Loan_Amount_Term\", [0.5], 0.25)\r\n",
        "median_loan_term = int(median_loan_term[0])\r\n",
        "\r\n",
        "print('Median value of Loan_Amount_Term', median_loan_term)"
      ],
      "execution_count": null,
      "outputs": [
        {
          "output_type": "stream",
          "text": [
            "Median value of Loan_Amount_Term 360\n"
          ],
          "name": "stdout"
        }
      ]
    },
    {
      "cell_type": "code",
      "metadata": {
        "colab": {
          "base_uri": "https://localhost:8080/"
        },
        "id": "1bLGtohu_pJF",
        "outputId": "086a4da9-2d9c-456d-826d-21c3d8b221b2"
      },
      "source": [
        "# using median_loan_term value to fill the nulls in Loan_Amount_Term column\r\n",
        "\r\n",
        "df = df.na.fill(median_loan_term, subset=['Loan_Amount_Term'])\r\n",
        "\r\n",
        "df.select([count(when(col('Loan_Amount_Term').isNull(),True)).alias('Loan_Amount_Term')]).show()"
      ],
      "execution_count": null,
      "outputs": [
        {
          "output_type": "stream",
          "text": [
            "+----------------+\n",
            "|Loan_Amount_Term|\n",
            "+----------------+\n",
            "|               0|\n",
            "+----------------+\n",
            "\n"
          ],
          "name": "stdout"
        }
      ]
    },
    {
      "cell_type": "code",
      "metadata": {
        "colab": {
          "base_uri": "https://localhost:8080/"
        },
        "id": "szTdjfcLw06Z",
        "outputId": "4024130a-b7b6-48ad-d636-913a543d1c78"
      },
      "source": [
        "df.groupBy(\"Gender\").count().show()"
      ],
      "execution_count": null,
      "outputs": [
        {
          "output_type": "stream",
          "text": [
            "+------+-----+\n",
            "|Gender|count|\n",
            "+------+-----+\n",
            "|  null|   13|\n",
            "|Female|  112|\n",
            "|  Male|  489|\n",
            "+------+-----+\n",
            "\n"
          ],
          "name": "stdout"
        }
      ]
    },
    {
      "cell_type": "code",
      "metadata": {
        "colab": {
          "base_uri": "https://localhost:8080/"
        },
        "id": "inFn3Rrj15xw",
        "outputId": "b4f71370-a8a0-4660-a8fd-e116b2d172d8"
      },
      "source": [
        "df = df.na.fill('Male',subset=['Gender'])\r\n",
        "df.groupBy(\"Gender\").count().show()"
      ],
      "execution_count": null,
      "outputs": [
        {
          "output_type": "stream",
          "text": [
            "+------+-----+\n",
            "|Gender|count|\n",
            "+------+-----+\n",
            "|Female|  112|\n",
            "|  Male|  502|\n",
            "+------+-----+\n",
            "\n"
          ],
          "name": "stdout"
        }
      ]
    },
    {
      "cell_type": "code",
      "metadata": {
        "colab": {
          "base_uri": "https://localhost:8080/"
        },
        "id": "-nhzA4RQ2OCm",
        "outputId": "9d63a824-7ca5-43dd-ec13-867efaa1bc19"
      },
      "source": [
        "df.groupBy(\"Married\").count().show()"
      ],
      "execution_count": null,
      "outputs": [
        {
          "output_type": "stream",
          "text": [
            "+-------+-----+\n",
            "|Married|count|\n",
            "+-------+-----+\n",
            "|   null|    3|\n",
            "|     No|  213|\n",
            "|    Yes|  398|\n",
            "+-------+-----+\n",
            "\n"
          ],
          "name": "stdout"
        }
      ]
    },
    {
      "cell_type": "code",
      "metadata": {
        "colab": {
          "base_uri": "https://localhost:8080/"
        },
        "id": "g0GRiPDe2Pfw",
        "outputId": "bedd323f-0e30-4593-989f-cf55748e3703"
      },
      "source": [
        "df = df.na.fill('Yes',subset=['Married'])\r\n",
        "df.groupBy(\"Married\").count().show()"
      ],
      "execution_count": null,
      "outputs": [
        {
          "output_type": "stream",
          "text": [
            "+-------+-----+\n",
            "|Married|count|\n",
            "+-------+-----+\n",
            "|     No|  213|\n",
            "|    Yes|  401|\n",
            "+-------+-----+\n",
            "\n"
          ],
          "name": "stdout"
        }
      ]
    },
    {
      "cell_type": "code",
      "metadata": {
        "colab": {
          "base_uri": "https://localhost:8080/"
        },
        "id": "_dWJdcJf2doE",
        "outputId": "daceb178-4361-4796-dc32-3f355f589ce1"
      },
      "source": [
        "df.groupBy(\"Dependents\").count().show()"
      ],
      "execution_count": null,
      "outputs": [
        {
          "output_type": "stream",
          "text": [
            "+----------+-----+\n",
            "|Dependents|count|\n",
            "+----------+-----+\n",
            "|         0|  345|\n",
            "|      null|   15|\n",
            "|         1|  102|\n",
            "|        3+|   51|\n",
            "|         2|  101|\n",
            "+----------+-----+\n",
            "\n"
          ],
          "name": "stdout"
        }
      ]
    },
    {
      "cell_type": "code",
      "metadata": {
        "colab": {
          "base_uri": "https://localhost:8080/"
        },
        "id": "r8m8QFUu2hM0",
        "outputId": "ba8d4ea7-377c-4d37-b9b9-d9f6a53973ec"
      },
      "source": [
        "df = df.na.fill('0',subset=['Dependents'])\r\n",
        "df.groupBy(\"Dependents\").count().show()"
      ],
      "execution_count": null,
      "outputs": [
        {
          "output_type": "stream",
          "text": [
            "+----------+-----+\n",
            "|Dependents|count|\n",
            "+----------+-----+\n",
            "|         0|  360|\n",
            "|         1|  102|\n",
            "|        3+|   51|\n",
            "|         2|  101|\n",
            "+----------+-----+\n",
            "\n"
          ],
          "name": "stdout"
        }
      ]
    },
    {
      "cell_type": "code",
      "metadata": {
        "colab": {
          "base_uri": "https://localhost:8080/"
        },
        "id": "Sv84zBEx26Jm",
        "outputId": "cd171db6-57cf-4381-88a6-7988792d31c8"
      },
      "source": [
        "df.groupBy(\"Self_Employed\").count().show()"
      ],
      "execution_count": null,
      "outputs": [
        {
          "output_type": "stream",
          "text": [
            "+-------------+-----+\n",
            "|Self_Employed|count|\n",
            "+-------------+-----+\n",
            "|         null|   32|\n",
            "|           No|  500|\n",
            "|          Yes|   82|\n",
            "+-------------+-----+\n",
            "\n"
          ],
          "name": "stdout"
        }
      ]
    },
    {
      "cell_type": "code",
      "metadata": {
        "colab": {
          "base_uri": "https://localhost:8080/"
        },
        "id": "8GYDIsKW3CSe",
        "outputId": "d3136483-73fa-4510-edc0-edb541890e89"
      },
      "source": [
        "df = df.na.fill('No',subset=['Self_Employed'])\r\n",
        "df.groupBy(\"Self_Employed\").count().show()"
      ],
      "execution_count": null,
      "outputs": [
        {
          "output_type": "stream",
          "text": [
            "+-------------+-----+\n",
            "|Self_Employed|count|\n",
            "+-------------+-----+\n",
            "|           No|  532|\n",
            "|          Yes|   82|\n",
            "+-------------+-----+\n",
            "\n"
          ],
          "name": "stdout"
        }
      ]
    },
    {
      "cell_type": "code",
      "metadata": {
        "colab": {
          "base_uri": "https://localhost:8080/"
        },
        "id": "VEcMb4Of3FoR",
        "outputId": "d4365e5e-15fb-464a-a36c-6ed4b969103e"
      },
      "source": [
        "df.groupBy(\"Credit_History\").count().show()"
      ],
      "execution_count": null,
      "outputs": [
        {
          "output_type": "stream",
          "text": [
            "+--------------+-----+\n",
            "|Credit_History|count|\n",
            "+--------------+-----+\n",
            "|          null|   50|\n",
            "|             1|  475|\n",
            "|             0|   89|\n",
            "+--------------+-----+\n",
            "\n"
          ],
          "name": "stdout"
        }
      ]
    },
    {
      "cell_type": "code",
      "metadata": {
        "colab": {
          "base_uri": "https://localhost:8080/"
        },
        "id": "b4FM9fCZ3OEK",
        "outputId": "fa969908-44fe-4f9d-fa30-8b5ba6bfa1f8"
      },
      "source": [
        "df = df.na.fill(1,subset=['Credit_History'])\r\n",
        "df.groupBy(\"Credit_History\").count().show()"
      ],
      "execution_count": null,
      "outputs": [
        {
          "output_type": "stream",
          "text": [
            "+--------------+-----+\n",
            "|Credit_History|count|\n",
            "+--------------+-----+\n",
            "|             1|  525|\n",
            "|             0|   89|\n",
            "+--------------+-----+\n",
            "\n"
          ],
          "name": "stdout"
        }
      ]
    },
    {
      "cell_type": "code",
      "metadata": {
        "colab": {
          "base_uri": "https://localhost:8080/"
        },
        "id": "qYH_GoD5vW5O",
        "outputId": "f4cfeda0-739c-43f5-c1ca-df900a5ed163"
      },
      "source": [
        "df.select(*(sum(col(c).isNull().cast(\"int\")).alias(c) for c in df.columns)).show()"
      ],
      "execution_count": null,
      "outputs": [
        {
          "output_type": "stream",
          "text": [
            "+------+-------+----------+---------+-------------+---------------+-----------------+----------+----------------+--------------+-------------+-----------+\n",
            "|Gender|Married|Dependents|Education|Self_Employed|ApplicantIncome|CoapplicantIncome|LoanAmount|Loan_Amount_Term|Credit_History|Property_Area|Loan_Status|\n",
            "+------+-------+----------+---------+-------------+---------------+-----------------+----------+----------------+--------------+-------------+-----------+\n",
            "|     0|      0|         0|        0|            0|              0|                0|         0|               0|             0|            0|          0|\n",
            "+------+-------+----------+---------+-------------+---------------+-----------------+----------+----------------+--------------+-------------+-----------+\n",
            "\n"
          ],
          "name": "stdout"
        }
      ]
    },
    {
      "cell_type": "markdown",
      "metadata": {
        "id": "0S1tUuQY_J2B"
      },
      "source": [
        "## Exploratory Data Analysis"
      ]
    },
    {
      "cell_type": "code",
      "metadata": {
        "id": "8N276qRCIWuT"
      },
      "source": [
        "import seaborn as sns\r\n",
        "import matplotlib.pyplot as plt\r\n",
        "%matplotlib inline\r\n",
        "\r\n",
        "import warnings\r\n",
        "warnings.filterwarnings('ignore')"
      ],
      "execution_count": null,
      "outputs": []
    },
    {
      "cell_type": "code",
      "metadata": {
        "colab": {
          "base_uri": "https://localhost:8080/",
          "height": 298
        },
        "id": "Z1YIag5OGe-0",
        "outputId": "0528e155-5da0-41a8-c465-92f3ee0e4314"
      },
      "source": [
        "# plotting ApplicantIncome\r\n",
        "\r\n",
        "df_plot = df.select(['ApplicantIncome']).toPandas()\r\n",
        "sns.distplot(df_plot)\r\n",
        "plt.title('Distribution of Applicant Income')"
      ],
      "execution_count": null,
      "outputs": [
        {
          "output_type": "execute_result",
          "data": {
            "text/plain": [
              "Text(0.5, 1.0, 'Distribution of Applicant Income')"
            ]
          },
          "metadata": {
            "tags": []
          },
          "execution_count": 37
        },
        {
          "output_type": "display_data",
          "data": {
            "image/png": "[encoded data removed]",
            "text/plain": [
              "<Figure size 432x288 with 1 Axes>"
            ]
          },
          "metadata": {
            "tags": [],
            "needs_background": "light"
          }
        }
      ]
    },
    {
      "cell_type": "code",
      "metadata": {
        "colab": {
          "base_uri": "https://localhost:8080/",
          "height": 298
        },
        "id": "Ptuvd2tGfciC",
        "outputId": "f9e70e4c-f3df-47eb-e1ea-e6bc91120612"
      },
      "source": [
        "# plotting CoapplicantIncome\r\n",
        "\r\n",
        "df_plot = df.select(['CoapplicantIncome']).toPandas()\r\n",
        "sns.distplot(df_plot)\r\n",
        "plt.title('Distribution of Coapplicant Income')"
      ],
      "execution_count": null,
      "outputs": [
        {
          "output_type": "execute_result",
          "data": {
            "text/plain": [
              "Text(0.5, 1.0, 'Distribution of Coapplicant Income')"
            ]
          },
          "metadata": {
            "tags": []
          },
          "execution_count": 38
        },
        {
          "output_type": "display_data",
          "data": {
            "image/png": "[encoded data removed]",
            "text/plain": [
              "<Figure size 432x288 with 1 Axes>"
            ]
          },
          "metadata": {
            "tags": [],
            "needs_background": "light"
          }
        }
      ]
    },
    {
      "cell_type": "code",
      "metadata": {
        "colab": {
          "base_uri": "https://localhost:8080/",
          "height": 298
        },
        "id": "W10CDOP8Kb-Z",
        "outputId": "adf2de02-da11-448f-c27f-6e3043ee3ff5"
      },
      "source": [
        "# plotting LoanAmount\r\n",
        "\r\n",
        "df_plot = df.select(['LoanAmount']).toPandas()\r\n",
        "sns.distplot(df_plot)\r\n",
        "plt.title('Distribution of Loan Amount')"
      ],
      "execution_count": null,
      "outputs": [
        {
          "output_type": "execute_result",
          "data": {
            "text/plain": [
              "Text(0.5, 1.0, 'Distribution of Loan Amount')"
            ]
          },
          "metadata": {
            "tags": []
          },
          "execution_count": 39
        },
        {
          "output_type": "display_data",
          "data": {
            "image/png": "[encoded data removed]",
            "text/plain": [
              "<Figure size 432x288 with 1 Axes>"
            ]
          },
          "metadata": {
            "tags": [],
            "needs_background": "light"
          }
        }
      ]
    },
    {
      "cell_type": "code",
      "metadata": {
        "colab": {
          "base_uri": "https://localhost:8080/",
          "height": 297
        },
        "id": "-HQBRFKifx6s",
        "outputId": "8f779197-7f8e-4adb-a12e-72e7eff9eb8f"
      },
      "source": [
        "# plotting Loan_Amount_Term\r\n",
        "\r\n",
        "df_plot = df.select(['Loan_Amount_Term']).toPandas()\r\n",
        "sns.countplot(df_plot['Loan_Amount_Term'])"
      ],
      "execution_count": null,
      "outputs": [
        {
          "output_type": "execute_result",
          "data": {
            "text/plain": [
              "<matplotlib.axes._subplots.AxesSubplot at 0x7fa3a99bbd68>"
            ]
          },
          "metadata": {
            "tags": []
          },
          "execution_count": 40
        },
        {
          "output_type": "display_data",
          "data": {
            "image/png": "[encoded data removed]",
            "text/plain": [
              "<Figure size 432x288 with 1 Axes>"
            ]
          },
          "metadata": {
            "tags": [],
            "needs_background": "light"
          }
        }
      ]
    },
    {
      "cell_type": "code",
      "metadata": {
        "colab": {
          "base_uri": "https://localhost:8080/"
        },
        "id": "X0GSzxUbCq_u",
        "outputId": "976873cf-b829-4888-d0bd-3e2ecc2c9ad6"
      },
      "source": [
        "df.groupBy(\"Loan_Status\").count().show()"
      ],
      "execution_count": null,
      "outputs": [
        {
          "output_type": "stream",
          "text": [
            "+-----------+-----+\n",
            "|Loan_Status|count|\n",
            "+-----------+-----+\n",
            "|          Y|  422|\n",
            "|          N|  192|\n",
            "+-----------+-----+\n",
            "\n"
          ],
          "name": "stdout"
        }
      ]
    },
    {
      "cell_type": "code",
      "metadata": {
        "colab": {
          "base_uri": "https://localhost:8080/",
          "height": 297
        },
        "id": "LVwMV6hGHcD7",
        "outputId": "cbdddaef-5baa-4d60-b639-9b3f5426a296"
      },
      "source": [
        "# plotting Loan_Status\r\n",
        "\r\n",
        "df_plot = df.select(['Loan_Status']).toPandas()\r\n",
        "sns.countplot(df_plot['Loan_Status'])"
      ],
      "execution_count": null,
      "outputs": [
        {
          "output_type": "execute_result",
          "data": {
            "text/plain": [
              "<matplotlib.axes._subplots.AxesSubplot at 0x7fa3ad2d2c18>"
            ]
          },
          "metadata": {
            "tags": []
          },
          "execution_count": 42
        },
        {
          "output_type": "display_data",
          "data": {
            "image/png": "[encoded data removed]",
            "text/plain": [
              "<Figure size 432x288 with 1 Axes>"
            ]
          },
          "metadata": {
            "tags": [],
            "needs_background": "light"
          }
        }
      ]
    },
    {
      "cell_type": "code",
      "metadata": {
        "colab": {
          "base_uri": "https://localhost:8080/",
          "height": 297
        },
        "id": "T3e_3jr1JNlw",
        "outputId": "d5aec79b-8885-469c-db82-1e88d09516da"
      },
      "source": [
        "# plotting Property_Area\r\n",
        "\r\n",
        "df_plot = df.select(['Property_Area']).toPandas()\r\n",
        "sns.countplot(df_plot['Property_Area'])"
      ],
      "execution_count": null,
      "outputs": [
        {
          "output_type": "execute_result",
          "data": {
            "text/plain": [
              "<matplotlib.axes._subplots.AxesSubplot at 0x7fa3a990a160>"
            ]
          },
          "metadata": {
            "tags": []
          },
          "execution_count": 43
        },
        {
          "output_type": "display_data",
          "data": {
            "image/png": "[encoded data removed]",
            "text/plain": [
              "<Figure size 432x288 with 1 Axes>"
            ]
          },
          "metadata": {
            "tags": [],
            "needs_background": "light"
          }
        }
      ]
    },
    {
      "cell_type": "code",
      "metadata": {
        "colab": {
          "base_uri": "https://localhost:8080/",
          "height": 297
        },
        "id": "xoLeP_4aIkBf",
        "outputId": "5d12ff71-5dba-4335-9c47-86bab98e73e0"
      },
      "source": [
        "df_plot = df.select(['Property_Area','LoanAmount']).toPandas()\r\n",
        "sns.boxplot(df_plot['Property_Area'],df_plot['LoanAmount'])"
      ],
      "execution_count": null,
      "outputs": [
        {
          "output_type": "execute_result",
          "data": {
            "text/plain": [
              "<matplotlib.axes._subplots.AxesSubplot at 0x7fa3a990a3c8>"
            ]
          },
          "metadata": {
            "tags": []
          },
          "execution_count": 44
        },
        {
          "output_type": "display_data",
          "data": {
            "image/png": "[encoded data removed]",
            "text/plain": [
              "<Figure size 432x288 with 1 Axes>"
            ]
          },
          "metadata": {
            "tags": [],
            "needs_background": "light"
          }
        }
      ]
    },
    {
      "cell_type": "markdown",
      "metadata": {
        "id": "loFtKnJ4J7Fe"
      },
      "source": [
        "Median Loan Amount provided to Rural Area is slightly higher than Urban. But there are some people in Urban who has got higher loan amounts compared to Rural or Semi urban."
      ]
    },
    {
      "cell_type": "code",
      "metadata": {
        "colab": {
          "base_uri": "https://localhost:8080/",
          "height": 296
        },
        "id": "biaSRHJyKHLa",
        "outputId": "64f0f846-3232-4648-86ce-b0921a85ff84"
      },
      "source": [
        "df_plot = df.select(['Education','ApplicantIncome']).toPandas()\r\n",
        "sns.boxplot(df_plot['Education'],df_plot['ApplicantIncome'])"
      ],
      "execution_count": null,
      "outputs": [
        {
          "output_type": "execute_result",
          "data": {
            "text/plain": [
              "<matplotlib.axes._subplots.AxesSubplot at 0x7fa3a9865240>"
            ]
          },
          "metadata": {
            "tags": []
          },
          "execution_count": 45
        },
        {
          "output_type": "display_data",
          "data": {
            "image/png": "[encoded data removed]",
            "text/plain": [
              "<Figure size 432x288 with 1 Axes>"
            ]
          },
          "metadata": {
            "tags": [],
            "needs_background": "light"
          }
        }
      ]
    },
    {
      "cell_type": "markdown",
      "metadata": {
        "id": "c1CXELnnKM1M"
      },
      "source": [
        "Even though there is not much difference between the mean income of graduate and non-graduates, there are more number of Graduates with very high incomes compared to Not Graduates."
      ]
    },
    {
      "cell_type": "code",
      "metadata": {
        "id": "FGl7Hs0P5O7d",
        "colab": {
          "base_uri": "https://localhost:8080/"
        },
        "outputId": "1fab226e-9957-407f-82a9-c7b77cd6889e"
      },
      "source": [
        "df.groupBy(\"Gender\").pivot(\"Loan_Status\").count().show()"
      ],
      "execution_count": null,
      "outputs": [
        {
          "output_type": "stream",
          "text": [
            "+------+---+---+\n",
            "|Gender|  N|  Y|\n",
            "+------+---+---+\n",
            "|Female| 37| 75|\n",
            "|  Male|155|347|\n",
            "+------+---+---+\n",
            "\n"
          ],
          "name": "stdout"
        }
      ]
    },
    {
      "cell_type": "code",
      "metadata": {
        "colab": {
          "base_uri": "https://localhost:8080/",
          "height": 296
        },
        "id": "cs7wlo62KVY6",
        "outputId": "8b77357e-8cb5-4f9d-ce0b-10d16f006748"
      },
      "source": [
        "df_plot = df.select(['Gender','Loan_Status']).toPandas()\r\n",
        "sns.countplot(x=df_plot['Gender'],hue=df_plot['Loan_Status'])"
      ],
      "execution_count": null,
      "outputs": [
        {
          "output_type": "execute_result",
          "data": {
            "text/plain": [
              "<matplotlib.axes._subplots.AxesSubplot at 0x7fa3a9783080>"
            ]
          },
          "metadata": {
            "tags": []
          },
          "execution_count": 47
        },
        {
          "output_type": "display_data",
          "data": {
            "image/png": "[encoded data removed]",
            "text/plain": [
              "<Figure size 432x288 with 1 Axes>"
            ]
          },
          "metadata": {
            "tags": [],
            "needs_background": "light"
          }
        }
      ]
    },
    {
      "cell_type": "markdown",
      "metadata": {
        "id": "pVkH3TCS99cq"
      },
      "source": [
        "Chances for getting Loan approved for Male or Female is almost equal."
      ]
    },
    {
      "cell_type": "code",
      "metadata": {
        "id": "oGa4lskF5uSv",
        "colab": {
          "base_uri": "https://localhost:8080/"
        },
        "outputId": "e3b2f17f-05e1-4f27-82fa-fc9e40e88634"
      },
      "source": [
        "  df.groupBy(\"Married\").pivot(\"Loan_Status\").count().show()"
      ],
      "execution_count": null,
      "outputs": [
        {
          "output_type": "stream",
          "text": [
            "+-------+---+---+\n",
            "|Married|  N|  Y|\n",
            "+-------+---+---+\n",
            "|     No| 79|134|\n",
            "|    Yes|113|288|\n",
            "+-------+---+---+\n",
            "\n"
          ],
          "name": "stdout"
        }
      ]
    },
    {
      "cell_type": "code",
      "metadata": {
        "colab": {
          "base_uri": "https://localhost:8080/",
          "height": 299
        },
        "id": "_pAM03GQKzYV",
        "outputId": "1283a2ef-ff90-4ce0-ebc4-3dcdc88c82bb"
      },
      "source": [
        "df_plot = df.select(['Married','Loan_Status']).toPandas()\r\n",
        "sns.countplot(x=df_plot['Married'],hue=df_plot['Loan_Status'])"
      ],
      "execution_count": null,
      "outputs": [
        {
          "output_type": "execute_result",
          "data": {
            "text/plain": [
              "<matplotlib.axes._subplots.AxesSubplot at 0x7fa3a96ed3c8>"
            ]
          },
          "metadata": {
            "tags": []
          },
          "execution_count": 49
        },
        {
          "output_type": "display_data",
          "data": {
            "image/png": "[encoded data removed]",
            "text/plain": [
              "<Figure size 432x288 with 1 Axes>"
            ]
          },
          "metadata": {
            "tags": [],
            "needs_background": "light"
          }
        }
      ]
    },
    {
      "cell_type": "markdown",
      "metadata": {
        "id": "KdGWag-QqUqd"
      },
      "source": [
        "Married people have higher chance of getting loan approved."
      ]
    },
    {
      "cell_type": "code",
      "metadata": {
        "colab": {
          "base_uri": "https://localhost:8080/"
        },
        "id": "Mx3FeU9b9dyy",
        "outputId": "1d0d956e-9cf7-4684-d8fa-ddf8b9a83674"
      },
      "source": [
        "df.groupBy(\"Dependents\").pivot(\"Loan_Status\").count().show()"
      ],
      "execution_count": null,
      "outputs": [
        {
          "output_type": "stream",
          "text": [
            "+----------+---+---+\n",
            "|Dependents|  N|  Y|\n",
            "+----------+---+---+\n",
            "|         0|113|247|\n",
            "|         1| 36| 66|\n",
            "|        3+| 18| 33|\n",
            "|         2| 25| 76|\n",
            "+----------+---+---+\n",
            "\n"
          ],
          "name": "stdout"
        }
      ]
    },
    {
      "cell_type": "code",
      "metadata": {
        "colab": {
          "base_uri": "https://localhost:8080/",
          "height": 296
        },
        "id": "bjtlEULxK59D",
        "outputId": "61e98769-d4cc-4d02-b16f-c35877aa23b8"
      },
      "source": [
        "df_plot = df.select(['Dependents','Loan_Status']).toPandas()\r\n",
        "sns.countplot(x=df_plot['Dependents'],hue=df_plot['Loan_Status'])"
      ],
      "execution_count": null,
      "outputs": [
        {
          "output_type": "execute_result",
          "data": {
            "text/plain": [
              "<matplotlib.axes._subplots.AxesSubplot at 0x7fa3a9656438>"
            ]
          },
          "metadata": {
            "tags": []
          },
          "execution_count": 51
        },
        {
          "output_type": "display_data",
          "data": {
            "image/png": "[encoded data removed]",
            "text/plain": [
              "<Figure size 432x288 with 1 Axes>"
            ]
          },
          "metadata": {
            "tags": [],
            "needs_background": "light"
          }
        }
      ]
    },
    {
      "cell_type": "markdown",
      "metadata": {
        "id": "YsBAfarp-duX"
      },
      "source": [
        "When the number of dependents is 2 there is more chance of getting loan approval compared to when the number of dependents is 1, even though both has similar data count."
      ]
    },
    {
      "cell_type": "code",
      "metadata": {
        "colab": {
          "base_uri": "https://localhost:8080/"
        },
        "id": "iJAbcca0-PHh",
        "outputId": "1dbe68d8-8349-4466-d00a-eae8e885fed7"
      },
      "source": [
        "  df.groupBy(\"Education\").pivot(\"Loan_Status\").count().show()"
      ],
      "execution_count": null,
      "outputs": [
        {
          "output_type": "stream",
          "text": [
            "+------------+---+---+\n",
            "|   Education|  N|  Y|\n",
            "+------------+---+---+\n",
            "|Not Graduate| 52| 82|\n",
            "|    Graduate|140|340|\n",
            "+------------+---+---+\n",
            "\n"
          ],
          "name": "stdout"
        }
      ]
    },
    {
      "cell_type": "code",
      "metadata": {
        "colab": {
          "base_uri": "https://localhost:8080/",
          "height": 296
        },
        "id": "Fe0uol6hLDqI",
        "outputId": "132a892c-a8db-4c9b-ae73-59020261ba5b"
      },
      "source": [
        "df_plot = df.select(['Education','Loan_Status']).toPandas()\r\n",
        "sns.countplot(x=df_plot['Education'],hue=df_plot['Loan_Status'])"
      ],
      "execution_count": null,
      "outputs": [
        {
          "output_type": "execute_result",
          "data": {
            "text/plain": [
              "<matplotlib.axes._subplots.AxesSubplot at 0x7fa3a9641a90>"
            ]
          },
          "metadata": {
            "tags": []
          },
          "execution_count": 53
        },
        {
          "output_type": "display_data",
          "data": {
            "image/png": "[encoded data removed]",
            "text/plain": [
              "<Figure size 432x288 with 1 Axes>"
            ]
          },
          "metadata": {
            "tags": [],
            "needs_background": "light"
          }
        }
      ]
    },
    {
      "cell_type": "markdown",
      "metadata": {
        "id": "66JUhgq2EwXv"
      },
      "source": [
        "Graduates have more chances of getting their loan approved."
      ]
    },
    {
      "cell_type": "code",
      "metadata": {
        "colab": {
          "base_uri": "https://localhost:8080/"
        },
        "id": "nYNqGUYcEMVV",
        "outputId": "0346242d-b0d8-40c5-dfa4-cfd80e372391"
      },
      "source": [
        "  df.groupBy(\"Credit_History\").pivot(\"Loan_Status\").count().show()"
      ],
      "execution_count": null,
      "outputs": [
        {
          "output_type": "stream",
          "text": [
            "+--------------+---+---+\n",
            "|Credit_History|  N|  Y|\n",
            "+--------------+---+---+\n",
            "|             1|110|415|\n",
            "|             0| 82|  7|\n",
            "+--------------+---+---+\n",
            "\n"
          ],
          "name": "stdout"
        }
      ]
    },
    {
      "cell_type": "code",
      "metadata": {
        "colab": {
          "base_uri": "https://localhost:8080/",
          "height": 297
        },
        "id": "mNJ2Roj1LIrA",
        "outputId": "b7faa73c-c23b-45f5-ebd0-d5bafbd8ca68"
      },
      "source": [
        "df_plot = df.select(['Credit_History','Loan_Status']).toPandas()\r\n",
        "sns.countplot(x=df_plot['Credit_History'],hue=df_plot['Loan_Status'])"
      ],
      "execution_count": null,
      "outputs": [
        {
          "output_type": "execute_result",
          "data": {
            "text/plain": [
              "<matplotlib.axes._subplots.AxesSubplot at 0x7fa3a95b5748>"
            ]
          },
          "metadata": {
            "tags": []
          },
          "execution_count": 55
        },
        {
          "output_type": "display_data",
          "data": {
            "image/png": "[encoded data removed]",
            "text/plain": [
              "<Figure size 432x288 with 1 Axes>"
            ]
          },
          "metadata": {
            "tags": [],
            "needs_background": "light"
          }
        }
      ]
    },
    {
      "cell_type": "markdown",
      "metadata": {
        "id": "lvytTwd2E8mw"
      },
      "source": [
        "There is very rare chance of getting loan if the person has no credit history."
      ]
    },
    {
      "cell_type": "code",
      "metadata": {
        "colab": {
          "base_uri": "https://localhost:8080/"
        },
        "id": "aaqZYTvcE24A",
        "outputId": "0b5ebe47-4e03-42a8-981a-f9194d69b2b3"
      },
      "source": [
        "  df.groupBy(\"Property_Area\").pivot(\"Loan_Status\").count().show()"
      ],
      "execution_count": null,
      "outputs": [
        {
          "output_type": "stream",
          "text": [
            "+-------------+---+---+\n",
            "|Property_Area|  N|  Y|\n",
            "+-------------+---+---+\n",
            "|        Urban| 69|133|\n",
            "|    Semiurban| 54|179|\n",
            "|        Rural| 69|110|\n",
            "+-------------+---+---+\n",
            "\n"
          ],
          "name": "stdout"
        }
      ]
    },
    {
      "cell_type": "code",
      "metadata": {
        "colab": {
          "base_uri": "https://localhost:8080/",
          "height": 297
        },
        "id": "IYC0eAUaLSbi",
        "outputId": "09db3709-383d-4187-da5b-67daaf47d6ca"
      },
      "source": [
        "df_plot = df.select(['Property_Area','Loan_Status']).toPandas()\r\n",
        "sns.countplot(x=df_plot['Property_Area'],hue=df_plot['Loan_Status'])"
      ],
      "execution_count": null,
      "outputs": [
        {
          "output_type": "execute_result",
          "data": {
            "text/plain": [
              "<matplotlib.axes._subplots.AxesSubplot at 0x7fa3a9592780>"
            ]
          },
          "metadata": {
            "tags": []
          },
          "execution_count": 57
        },
        {
          "output_type": "display_data",
          "data": {
            "image/png": "[encoded data removed]",
            "text/plain": [
              "<Figure size 432x288 with 1 Axes>"
            ]
          },
          "metadata": {
            "tags": [],
            "needs_background": "light"
          }
        }
      ]
    },
    {
      "cell_type": "markdown",
      "metadata": {
        "id": "1eBD2iPMFLds"
      },
      "source": [
        "Most of the person is from Semiurban area, and highest Loan acceptance is from that area."
      ]
    },
    {
      "cell_type": "markdown",
      "metadata": {
        "id": "5UUoM-i-dUzH"
      },
      "source": [
        "## Feature Engineering"
      ]
    },
    {
      "cell_type": "code",
      "metadata": {
        "colab": {
          "base_uri": "https://localhost:8080/"
        },
        "id": "oPxHEHnvdZOn",
        "outputId": "ba3ae131-5595-4d5a-8f91-bb08eb33e671"
      },
      "source": [
        "from pyspark.sql.functions import col\r\n",
        "\r\n",
        "df = df.withColumn(\"TotalIncome\", col(\"ApplicantIncome\")+col(\"CoapplicantIncome\"))\r\n",
        "df.show(5)"
      ],
      "execution_count": null,
      "outputs": [
        {
          "output_type": "stream",
          "text": [
            "+------+-------+----------+------------+-------------+---------------+-----------------+----------+----------------+--------------+-------------+-----------+-----------+\n",
            "|Gender|Married|Dependents|   Education|Self_Employed|ApplicantIncome|CoapplicantIncome|LoanAmount|Loan_Amount_Term|Credit_History|Property_Area|Loan_Status|TotalIncome|\n",
            "+------+-------+----------+------------+-------------+---------------+-----------------+----------+----------------+--------------+-------------+-----------+-----------+\n",
            "|  Male|     No|         0|    Graduate|           No|           5849|              0.0|       146|             360|             1|        Urban|          Y|     5849.0|\n",
            "|  Male|    Yes|         1|    Graduate|           No|           4583|           1508.0|       128|             360|             1|        Rural|          N|     6091.0|\n",
            "|  Male|    Yes|         0|    Graduate|          Yes|           3000|              0.0|        66|             360|             1|        Urban|          Y|     3000.0|\n",
            "|  Male|    Yes|         0|Not Graduate|           No|           2583|           2358.0|       120|             360|             1|        Urban|          Y|     4941.0|\n",
            "|  Male|     No|         0|    Graduate|           No|           6000|              0.0|       141|             360|             1|        Urban|          Y|     6000.0|\n",
            "+------+-------+----------+------------+-------------+---------------+-----------------+----------+----------------+--------------+-------------+-----------+-----------+\n",
            "only showing top 5 rows\n",
            "\n"
          ],
          "name": "stdout"
        }
      ]
    },
    {
      "cell_type": "code",
      "metadata": {
        "colab": {
          "base_uri": "https://localhost:8080/"
        },
        "id": "FxRTi-CfeUGT",
        "outputId": "f761b43f-7e11-42e2-d775-ed3b50bee486"
      },
      "source": [
        "df = df.withColumn(\"EMI\", col(\"LoanAmount\")/col(\"Loan_Amount_Term\"))\r\n",
        "df.show(5)"
      ],
      "execution_count": null,
      "outputs": [
        {
          "output_type": "stream",
          "text": [
            "+------+-------+----------+------------+-------------+---------------+-----------------+----------+----------------+--------------+-------------+-----------+-----------+-------------------+\n",
            "|Gender|Married|Dependents|   Education|Self_Employed|ApplicantIncome|CoapplicantIncome|LoanAmount|Loan_Amount_Term|Credit_History|Property_Area|Loan_Status|TotalIncome|                EMI|\n",
            "+------+-------+----------+------------+-------------+---------------+-----------------+----------+----------------+--------------+-------------+-----------+-----------+-------------------+\n",
            "|  Male|     No|         0|    Graduate|           No|           5849|              0.0|       146|             360|             1|        Urban|          Y|     5849.0|0.40555555555555556|\n",
            "|  Male|    Yes|         1|    Graduate|           No|           4583|           1508.0|       128|             360|             1|        Rural|          N|     6091.0|0.35555555555555557|\n",
            "|  Male|    Yes|         0|    Graduate|          Yes|           3000|              0.0|        66|             360|             1|        Urban|          Y|     3000.0|0.18333333333333332|\n",
            "|  Male|    Yes|         0|Not Graduate|           No|           2583|           2358.0|       120|             360|             1|        Urban|          Y|     4941.0| 0.3333333333333333|\n",
            "|  Male|     No|         0|    Graduate|           No|           6000|              0.0|       141|             360|             1|        Urban|          Y|     6000.0|0.39166666666666666|\n",
            "+------+-------+----------+------------+-------------+---------------+-----------------+----------+----------------+--------------+-------------+-----------+-----------+-------------------+\n",
            "only showing top 5 rows\n",
            "\n"
          ],
          "name": "stdout"
        }
      ]
    },
    {
      "cell_type": "markdown",
      "metadata": {
        "id": "Sj5abp2H4eE-"
      },
      "source": [
        "## Preprocessing"
      ]
    },
    {
      "cell_type": "code",
      "metadata": {
        "colab": {
          "base_uri": "https://localhost:8080/"
        },
        "id": "j9DXki0aZR_0",
        "outputId": "9031c3b7-1fec-4949-d9ae-c1cdd5a1510d"
      },
      "source": [
        "df.dtypes"
      ],
      "execution_count": null,
      "outputs": [
        {
          "output_type": "execute_result",
          "data": {
            "text/plain": [
              "[('Gender', 'string'),\n",
              " ('Married', 'string'),\n",
              " ('Dependents', 'string'),\n",
              " ('Education', 'string'),\n",
              " ('Self_Employed', 'string'),\n",
              " ('ApplicantIncome', 'int'),\n",
              " ('CoapplicantIncome', 'double'),\n",
              " ('LoanAmount', 'int'),\n",
              " ('Loan_Amount_Term', 'int'),\n",
              " ('Credit_History', 'int'),\n",
              " ('Property_Area', 'string'),\n",
              " ('Loan_Status', 'string'),\n",
              " ('TotalIncome', 'double'),\n",
              " ('EMI', 'double')]"
            ]
          },
          "metadata": {
            "tags": []
          },
          "execution_count": 66
        }
      ]
    },
    {
      "cell_type": "code",
      "metadata": {
        "id": "VECh-o8S4gnl"
      },
      "source": [
        "# StringIndexer - encode labels to label indices\r\n",
        "\r\n",
        "from pyspark.ml.feature import StringIndexer, OneHotEncoder\r\n",
        "\r\n",
        "# create object of StringIndexer class and specify input and output column\r\n",
        "SI_gender = StringIndexer(inputCol='Gender',outputCol='gender_Index')\r\n",
        "SI_married = StringIndexer(inputCol='Married',outputCol='married_Index')\r\n",
        "SI_dependents = StringIndexer(inputCol='Dependents',outputCol='dependents_Index')\r\n",
        "SI_education = StringIndexer(inputCol='Education',outputCol='education_Index')\r\n",
        "SI_selfemp = StringIndexer(inputCol='Self_Employed',outputCol='selfemp_Index')\r\n",
        "SI_credit = StringIndexer(inputCol='Credit_History',outputCol='credit_Index')\r\n",
        "SI_property = StringIndexer(inputCol='Property_Area',outputCol='property_Index')\r\n",
        "SI_loanstatus = StringIndexer(inputCol='Loan_Status',outputCol='loanstatus_Index')\r\n",
        "\r\n",
        "# transform the data\r\n",
        "df = SI_gender.fit(df).transform(df)\r\n",
        "df = SI_married.fit(df).transform(df)\r\n",
        "df = SI_dependents.fit(df).transform(df)\r\n",
        "df = SI_education.fit(df).transform(df)\r\n",
        "df = SI_selfemp.fit(df).transform(df)\r\n",
        "df = SI_credit.fit(df).transform(df)\r\n",
        "df = SI_property.fit(df).transform(df)\r\n",
        "df = SI_loanstatus.fit(df).transform(df)"
      ],
      "execution_count": null,
      "outputs": []
    },
    {
      "cell_type": "code",
      "metadata": {
        "colab": {
          "base_uri": "https://localhost:8080/"
        },
        "id": "dcRIaJCJcLBb",
        "outputId": "20003521-2459-4c9e-cc7b-0aab44f37c6e"
      },
      "source": [
        "# view the transformed data\r\n",
        "df.select('Gender', 'gender_Index', 'Married', 'married_Index','Dependents','dependents_Index','Education','education_Index','Self_Employed','selfemp_Index','Credit_History','credit_Index','Property_Area','property_Index','Loan_Status','loanstatus_Index').show(5)"
      ],
      "execution_count": null,
      "outputs": [
        {
          "output_type": "stream",
          "text": [
            "+------+------------+-------+-------------+----------+----------------+------------+---------------+-------------+-------------+--------------+------------+-------------+--------------+-----------+----------------+\n",
            "|Gender|gender_Index|Married|married_Index|Dependents|dependents_Index|   Education|education_Index|Self_Employed|selfemp_Index|Credit_History|credit_Index|Property_Area|property_Index|Loan_Status|loanstatus_Index|\n",
            "+------+------------+-------+-------------+----------+----------------+------------+---------------+-------------+-------------+--------------+------------+-------------+--------------+-----------+----------------+\n",
            "|  Male|         0.0|     No|          1.0|         0|             0.0|    Graduate|            0.0|           No|          0.0|             1|         0.0|        Urban|           1.0|          Y|             0.0|\n",
            "|  Male|         0.0|    Yes|          0.0|         1|             1.0|    Graduate|            0.0|           No|          0.0|             1|         0.0|        Rural|           2.0|          N|             1.0|\n",
            "|  Male|         0.0|    Yes|          0.0|         0|             0.0|    Graduate|            0.0|          Yes|          1.0|             1|         0.0|        Urban|           1.0|          Y|             0.0|\n",
            "|  Male|         0.0|    Yes|          0.0|         0|             0.0|Not Graduate|            1.0|           No|          0.0|             1|         0.0|        Urban|           1.0|          Y|             0.0|\n",
            "|  Male|         0.0|     No|          1.0|         0|             0.0|    Graduate|            0.0|           No|          0.0|             1|         0.0|        Urban|           1.0|          Y|             0.0|\n",
            "+------+------------+-------+-------------+----------+----------------+------------+---------------+-------------+-------------+--------------+------------+-------------+--------------+-----------+----------------+\n",
            "only showing top 5 rows\n",
            "\n"
          ],
          "name": "stdout"
        }
      ]
    },
    {
      "cell_type": "code",
      "metadata": {
        "colab": {
          "base_uri": "https://localhost:8080/"
        },
        "id": "OhYA1WSgc-PC",
        "outputId": "20022bf6-dffe-4430-8964-c763c8a6ca0f"
      },
      "source": [
        "# create object and specify input and output column\r\n",
        "OHE = OneHotEncoder(inputCols=['gender_Index', 'married_Index','dependents_Index','education_Index',\r\n",
        "                               'selfemp_Index','credit_Index','property_Index','loanstatus_Index'],\r\n",
        "                    outputCols=['gender_OHE', 'married_OHE','dependents_OHE','education_OHE',\r\n",
        "                                'selfemp_OHE','credit_OHE','property_OHE','loanstatus_OHE'])\r\n",
        "\r\n",
        "# transform the data\r\n",
        "df = OHE.fit(df).transform(df)\r\n",
        "\r\n",
        "# view and transform the data\r\n",
        "df.select('gender_Index', 'gender_OHE', 'education_Index','education_OHE','credit_Index',\r\n",
        "          'credit_OHE','property_Index','property_OHE').show(10)"
      ],
      "execution_count": null,
      "outputs": [
        {
          "output_type": "stream",
          "text": [
            "+------------+-------------+---------------+-------------+------------+-------------+--------------+-------------+\n",
            "|gender_Index|   gender_OHE|education_Index|education_OHE|credit_Index|   credit_OHE|property_Index| property_OHE|\n",
            "+------------+-------------+---------------+-------------+------------+-------------+--------------+-------------+\n",
            "|         0.0|(1,[0],[1.0])|            0.0|(1,[0],[1.0])|         0.0|(1,[0],[1.0])|           1.0|(2,[1],[1.0])|\n",
            "|         0.0|(1,[0],[1.0])|            0.0|(1,[0],[1.0])|         0.0|(1,[0],[1.0])|           2.0|    (2,[],[])|\n",
            "|         0.0|(1,[0],[1.0])|            0.0|(1,[0],[1.0])|         0.0|(1,[0],[1.0])|           1.0|(2,[1],[1.0])|\n",
            "|         0.0|(1,[0],[1.0])|            1.0|    (1,[],[])|         0.0|(1,[0],[1.0])|           1.0|(2,[1],[1.0])|\n",
            "|         0.0|(1,[0],[1.0])|            0.0|(1,[0],[1.0])|         0.0|(1,[0],[1.0])|           1.0|(2,[1],[1.0])|\n",
            "|         0.0|(1,[0],[1.0])|            0.0|(1,[0],[1.0])|         0.0|(1,[0],[1.0])|           1.0|(2,[1],[1.0])|\n",
            "|         0.0|(1,[0],[1.0])|            1.0|    (1,[],[])|         0.0|(1,[0],[1.0])|           1.0|(2,[1],[1.0])|\n",
            "|         0.0|(1,[0],[1.0])|            0.0|(1,[0],[1.0])|         1.0|    (1,[],[])|           0.0|(2,[0],[1.0])|\n",
            "|         0.0|(1,[0],[1.0])|            0.0|(1,[0],[1.0])|         0.0|(1,[0],[1.0])|           1.0|(2,[1],[1.0])|\n",
            "|         0.0|(1,[0],[1.0])|            0.0|(1,[0],[1.0])|         0.0|(1,[0],[1.0])|           0.0|(2,[0],[1.0])|\n",
            "+------------+-------------+---------------+-------------+------------+-------------+--------------+-------------+\n",
            "only showing top 10 rows\n",
            "\n"
          ],
          "name": "stdout"
        }
      ]
    },
    {
      "cell_type": "code",
      "metadata": {
        "colab": {
          "base_uri": "https://localhost:8080/"
        },
        "id": "MM5jlDv_AMG4",
        "outputId": "1b49e7aa-2364-4c2e-fcad-cb52b71075b4"
      },
      "source": [
        "df.select('Married','married_Index', 'married_OHE',\r\n",
        "          'Property_Area','property_Index','property_OHE').show(10)"
      ],
      "execution_count": null,
      "outputs": [
        {
          "output_type": "stream",
          "text": [
            "+-------+-------------+-------------+-------------+--------------+-------------+\n",
            "|Married|married_Index|  married_OHE|Property_Area|property_Index| property_OHE|\n",
            "+-------+-------------+-------------+-------------+--------------+-------------+\n",
            "|     No|          1.0|    (1,[],[])|        Urban|           1.0|(2,[1],[1.0])|\n",
            "|    Yes|          0.0|(1,[0],[1.0])|        Rural|           2.0|    (2,[],[])|\n",
            "|    Yes|          0.0|(1,[0],[1.0])|        Urban|           1.0|(2,[1],[1.0])|\n",
            "|    Yes|          0.0|(1,[0],[1.0])|        Urban|           1.0|(2,[1],[1.0])|\n",
            "|     No|          1.0|    (1,[],[])|        Urban|           1.0|(2,[1],[1.0])|\n",
            "|    Yes|          0.0|(1,[0],[1.0])|        Urban|           1.0|(2,[1],[1.0])|\n",
            "|    Yes|          0.0|(1,[0],[1.0])|        Urban|           1.0|(2,[1],[1.0])|\n",
            "|    Yes|          0.0|(1,[0],[1.0])|    Semiurban|           0.0|(2,[0],[1.0])|\n",
            "|    Yes|          0.0|(1,[0],[1.0])|        Urban|           1.0|(2,[1],[1.0])|\n",
            "|    Yes|          0.0|(1,[0],[1.0])|    Semiurban|           0.0|(2,[0],[1.0])|\n",
            "+-------+-------------+-------------+-------------+--------------+-------------+\n",
            "only showing top 10 rows\n",
            "\n"
          ],
          "name": "stdout"
        }
      ]
    },
    {
      "cell_type": "code",
      "metadata": {
        "colab": {
          "base_uri": "https://localhost:8080/"
        },
        "id": "W6I4zn9-efuO",
        "outputId": "1e7eed25-e9c2-4cf3-8e5b-648fdfc1dd2b"
      },
      "source": [
        "df.show(5)"
      ],
      "execution_count": null,
      "outputs": [
        {
          "output_type": "stream",
          "text": [
            "+------+-------+----------+------------+-------------+---------------+-----------------+----------+----------------+--------------+-------------+-----------+-----------+-------------------+------------+-------------+----------------+---------------+-------------+------------+--------------+----------------+--------------+-------------+-------------+--------------+-------------+-------------+-------------+-------------+\n",
            "|Gender|Married|Dependents|   Education|Self_Employed|ApplicantIncome|CoapplicantIncome|LoanAmount|Loan_Amount_Term|Credit_History|Property_Area|Loan_Status|TotalIncome|                EMI|gender_Index|married_Index|dependents_Index|education_Index|selfemp_Index|credit_Index|property_Index|loanstatus_Index|loanstatus_OHE|  married_OHE|  selfemp_OHE|dependents_OHE| property_OHE|   gender_OHE|   credit_OHE|education_OHE|\n",
            "+------+-------+----------+------------+-------------+---------------+-----------------+----------+----------------+--------------+-------------+-----------+-----------+-------------------+------------+-------------+----------------+---------------+-------------+------------+--------------+----------------+--------------+-------------+-------------+--------------+-------------+-------------+-------------+-------------+\n",
            "|  Male|     No|         0|    Graduate|           No|           5849|              0.0|       146|             360|             1|        Urban|          Y|     5849.0|0.40555555555555556|         0.0|          1.0|             0.0|            0.0|          0.0|         0.0|           1.0|             0.0| (1,[0],[1.0])|    (1,[],[])|(1,[0],[1.0])| (3,[0],[1.0])|(2,[1],[1.0])|(1,[0],[1.0])|(1,[0],[1.0])|(1,[0],[1.0])|\n",
            "|  Male|    Yes|         1|    Graduate|           No|           4583|           1508.0|       128|             360|             1|        Rural|          N|     6091.0|0.35555555555555557|         0.0|          0.0|             1.0|            0.0|          0.0|         0.0|           2.0|             1.0|     (1,[],[])|(1,[0],[1.0])|(1,[0],[1.0])| (3,[1],[1.0])|    (2,[],[])|(1,[0],[1.0])|(1,[0],[1.0])|(1,[0],[1.0])|\n",
            "|  Male|    Yes|         0|    Graduate|          Yes|           3000|              0.0|        66|             360|             1|        Urban|          Y|     3000.0|0.18333333333333332|         0.0|          0.0|             0.0|            0.0|          1.0|         0.0|           1.0|             0.0| (1,[0],[1.0])|(1,[0],[1.0])|    (1,[],[])| (3,[0],[1.0])|(2,[1],[1.0])|(1,[0],[1.0])|(1,[0],[1.0])|(1,[0],[1.0])|\n",
            "|  Male|    Yes|         0|Not Graduate|           No|           2583|           2358.0|       120|             360|             1|        Urban|          Y|     4941.0| 0.3333333333333333|         0.0|          0.0|             0.0|            1.0|          0.0|         0.0|           1.0|             0.0| (1,[0],[1.0])|(1,[0],[1.0])|(1,[0],[1.0])| (3,[0],[1.0])|(2,[1],[1.0])|(1,[0],[1.0])|(1,[0],[1.0])|    (1,[],[])|\n",
            "|  Male|     No|         0|    Graduate|           No|           6000|              0.0|       141|             360|             1|        Urban|          Y|     6000.0|0.39166666666666666|         0.0|          1.0|             0.0|            0.0|          0.0|         0.0|           1.0|             0.0| (1,[0],[1.0])|    (1,[],[])|(1,[0],[1.0])| (3,[0],[1.0])|(2,[1],[1.0])|(1,[0],[1.0])|(1,[0],[1.0])|(1,[0],[1.0])|\n",
            "+------+-------+----------+------------+-------------+---------------+-----------------+----------+----------------+--------------+-------------+-----------+-----------+-------------------+------------+-------------+----------------+---------------+-------------+------------+--------------+----------------+--------------+-------------+-------------+--------------+-------------+-------------+-------------+-------------+\n",
            "only showing top 5 rows\n",
            "\n"
          ],
          "name": "stdout"
        }
      ]
    },
    {
      "cell_type": "code",
      "metadata": {
        "colab": {
          "base_uri": "https://localhost:8080/",
          "height": 375
        },
        "id": "LxlJ-EzmyIHJ",
        "outputId": "e41b0fe0-2533-4b52-b3e6-7faa3e987b0e"
      },
      "source": [
        "df_corr = df.toPandas()\r\n",
        "corr = df_corr.corr()\r\n",
        "corr.style.background_gradient(cmap='YlGnBu').set_precision(2)"
      ],
      "execution_count": null,
      "outputs": [
        {
          "output_type": "execute_result",
          "data": {
            "text/html": [
              "<style  type=\"text/css\" >\n",
              "#T_bea63426_66b5_11eb_8016_0242ac1c0002row0_col0,#T_bea63426_66b5_11eb_8016_0242ac1c0002row1_col1,#T_bea63426_66b5_11eb_8016_0242ac1c0002row2_col2,#T_bea63426_66b5_11eb_8016_0242ac1c0002row3_col3,#T_bea63426_66b5_11eb_8016_0242ac1c0002row4_col4,#T_bea63426_66b5_11eb_8016_0242ac1c0002row5_col5,#T_bea63426_66b5_11eb_8016_0242ac1c0002row6_col6,#T_bea63426_66b5_11eb_8016_0242ac1c0002row7_col7,#T_bea63426_66b5_11eb_8016_0242ac1c0002row8_col8,#T_bea63426_66b5_11eb_8016_0242ac1c0002row9_col9,#T_bea63426_66b5_11eb_8016_0242ac1c0002row10_col10,#T_bea63426_66b5_11eb_8016_0242ac1c0002row11_col11,#T_bea63426_66b5_11eb_8016_0242ac1c0002row12_col12,#T_bea63426_66b5_11eb_8016_0242ac1c0002row13_col13,#T_bea63426_66b5_11eb_8016_0242ac1c0002row14_col14{\n",
              "            background-color:  #081d58;\n",
              "            color:  #f1f1f1;\n",
              "        }#T_bea63426_66b5_11eb_8016_0242ac1c0002row0_col1,#T_bea63426_66b5_11eb_8016_0242ac1c0002row2_col10,#T_bea63426_66b5_11eb_8016_0242ac1c0002row3_col6,#T_bea63426_66b5_11eb_8016_0242ac1c0002row3_col11,#T_bea63426_66b5_11eb_8016_0242ac1c0002row4_col12,#T_bea63426_66b5_11eb_8016_0242ac1c0002row4_col14,#T_bea63426_66b5_11eb_8016_0242ac1c0002row6_col3,#T_bea63426_66b5_11eb_8016_0242ac1c0002row7_col13,#T_bea63426_66b5_11eb_8016_0242ac1c0002row8_col9,#T_bea63426_66b5_11eb_8016_0242ac1c0002row9_col7,#T_bea63426_66b5_11eb_8016_0242ac1c0002row9_col8,#T_bea63426_66b5_11eb_8016_0242ac1c0002row10_col0,#T_bea63426_66b5_11eb_8016_0242ac1c0002row10_col2,#T_bea63426_66b5_11eb_8016_0242ac1c0002row10_col5,#T_bea63426_66b5_11eb_8016_0242ac1c0002row12_col4{\n",
              "            background-color:  #ffffd9;\n",
              "            color:  #000000;\n",
              "        }#T_bea63426_66b5_11eb_8016_0242ac1c0002row0_col2{\n",
              "            background-color:  #1d90c0;\n",
              "            color:  #000000;\n",
              "        }#T_bea63426_66b5_11eb_8016_0242ac1c0002row0_col3,#T_bea63426_66b5_11eb_8016_0242ac1c0002row1_col2{\n",
              "            background-color:  #a9ddb7;\n",
              "            color:  #000000;\n",
              "        }#T_bea63426_66b5_11eb_8016_0242ac1c0002row0_col4{\n",
              "            background-color:  #46b8c3;\n",
              "            color:  #000000;\n",
              "        }#T_bea63426_66b5_11eb_8016_0242ac1c0002row0_col5{\n",
              "            background-color:  #1d2e83;\n",
              "            color:  #f1f1f1;\n",
              "        }#T_bea63426_66b5_11eb_8016_0242ac1c0002row0_col6{\n",
              "            background-color:  #33a7c2;\n",
              "            color:  #000000;\n",
              "        }#T_bea63426_66b5_11eb_8016_0242ac1c0002row0_col7,#T_bea63426_66b5_11eb_8016_0242ac1c0002row6_col7,#T_bea63426_66b5_11eb_8016_0242ac1c0002row9_col13,#T_bea63426_66b5_11eb_8016_0242ac1c0002row12_col1{\n",
              "            background-color:  #f1fabb;\n",
              "            color:  #000000;\n",
              "        }#T_bea63426_66b5_11eb_8016_0242ac1c0002row0_col8{\n",
              "            background-color:  #d3eeb3;\n",
              "            color:  #000000;\n",
              "        }#T_bea63426_66b5_11eb_8016_0242ac1c0002row0_col9,#T_bea63426_66b5_11eb_8016_0242ac1c0002row12_col3,#T_bea63426_66b5_11eb_8016_0242ac1c0002row13_col6{\n",
              "            background-color:  #95d5b9;\n",
              "            color:  #000000;\n",
              "        }#T_bea63426_66b5_11eb_8016_0242ac1c0002row0_col10,#T_bea63426_66b5_11eb_8016_0242ac1c0002row1_col0,#T_bea63426_66b5_11eb_8016_0242ac1c0002row10_col11{\n",
              "            background-color:  #fcfed3;\n",
              "            color:  #000000;\n",
              "        }#T_bea63426_66b5_11eb_8016_0242ac1c0002row0_col11,#T_bea63426_66b5_11eb_8016_0242ac1c0002row12_col7{\n",
              "            background-color:  #e5f5b2;\n",
              "            color:  #000000;\n",
              "        }#T_bea63426_66b5_11eb_8016_0242ac1c0002row0_col12{\n",
              "            background-color:  #3eb3c4;\n",
              "            color:  #000000;\n",
              "        }#T_bea63426_66b5_11eb_8016_0242ac1c0002row0_col13,#T_bea63426_66b5_11eb_8016_0242ac1c0002row1_col13,#T_bea63426_66b5_11eb_8016_0242ac1c0002row4_col1{\n",
              "            background-color:  #eff9b5;\n",
              "            color:  #000000;\n",
              "        }#T_bea63426_66b5_11eb_8016_0242ac1c0002row0_col14,#T_bea63426_66b5_11eb_8016_0242ac1c0002row11_col14{\n",
              "            background-color:  #8cd2ba;\n",
              "            color:  #000000;\n",
              "        }#T_bea63426_66b5_11eb_8016_0242ac1c0002row1_col3,#T_bea63426_66b5_11eb_8016_0242ac1c0002row7_col6,#T_bea63426_66b5_11eb_8016_0242ac1c0002row11_col9{\n",
              "            background-color:  #aedfb6;\n",
              "            color:  #000000;\n",
              "        }#T_bea63426_66b5_11eb_8016_0242ac1c0002row1_col4,#T_bea63426_66b5_11eb_8016_0242ac1c0002row5_col12,#T_bea63426_66b5_11eb_8016_0242ac1c0002row6_col4,#T_bea63426_66b5_11eb_8016_0242ac1c0002row7_col12,#T_bea63426_66b5_11eb_8016_0242ac1c0002row8_col12{\n",
              "            background-color:  #3fb4c4;\n",
              "            color:  #000000;\n",
              "        }#T_bea63426_66b5_11eb_8016_0242ac1c0002row1_col5{\n",
              "            background-color:  #61c2bf;\n",
              "            color:  #000000;\n",
              "        }#T_bea63426_66b5_11eb_8016_0242ac1c0002row1_col6{\n",
              "            background-color:  #67c4be;\n",
              "            color:  #000000;\n",
              "        }#T_bea63426_66b5_11eb_8016_0242ac1c0002row1_col7,#T_bea63426_66b5_11eb_8016_0242ac1c0002row3_col5,#T_bea63426_66b5_11eb_8016_0242ac1c0002row8_col0{\n",
              "            background-color:  #f4fbc1;\n",
              "            color:  #000000;\n",
              "        }#T_bea63426_66b5_11eb_8016_0242ac1c0002row1_col8{\n",
              "            background-color:  #d9f0b3;\n",
              "            color:  #000000;\n",
              "        }#T_bea63426_66b5_11eb_8016_0242ac1c0002row1_col9,#T_bea63426_66b5_11eb_8016_0242ac1c0002row2_col1,#T_bea63426_66b5_11eb_8016_0242ac1c0002row8_col6{\n",
              "            background-color:  #bbe4b5;\n",
              "            color:  #000000;\n",
              "        }#T_bea63426_66b5_11eb_8016_0242ac1c0002row1_col10,#T_bea63426_66b5_11eb_8016_0242ac1c0002row9_col11{\n",
              "            background-color:  #f3fabd;\n",
              "            color:  #000000;\n",
              "        }#T_bea63426_66b5_11eb_8016_0242ac1c0002row1_col11,#T_bea63426_66b5_11eb_8016_0242ac1c0002row8_col2{\n",
              "            background-color:  #fdfed4;\n",
              "            color:  #000000;\n",
              "        }#T_bea63426_66b5_11eb_8016_0242ac1c0002row1_col12,#T_bea63426_66b5_11eb_8016_0242ac1c0002row5_col4,#T_bea63426_66b5_11eb_8016_0242ac1c0002row6_col12,#T_bea63426_66b5_11eb_8016_0242ac1c0002row7_col4,#T_bea63426_66b5_11eb_8016_0242ac1c0002row8_col4{\n",
              "            background-color:  #44b7c4;\n",
              "            color:  #000000;\n",
              "        }#T_bea63426_66b5_11eb_8016_0242ac1c0002row1_col14{\n",
              "            background-color:  #78cbbc;\n",
              "            color:  #000000;\n",
              "        }#T_bea63426_66b5_11eb_8016_0242ac1c0002row2_col0{\n",
              "            background-color:  #1f93c0;\n",
              "            color:  #000000;\n",
              "        }#T_bea63426_66b5_11eb_8016_0242ac1c0002row2_col3{\n",
              "            background-color:  #89d1ba;\n",
              "            color:  #000000;\n",
              "        }#T_bea63426_66b5_11eb_8016_0242ac1c0002row2_col4,#T_bea63426_66b5_11eb_8016_0242ac1c0002row3_col4,#T_bea63426_66b5_11eb_8016_0242ac1c0002row11_col4{\n",
              "            background-color:  #42b6c4;\n",
              "            color:  #000000;\n",
              "        }#T_bea63426_66b5_11eb_8016_0242ac1c0002row2_col5,#T_bea63426_66b5_11eb_8016_0242ac1c0002row5_col2{\n",
              "            background-color:  #1f7db6;\n",
              "            color:  #000000;\n",
              "        }#T_bea63426_66b5_11eb_8016_0242ac1c0002row2_col6{\n",
              "            background-color:  #1f82b9;\n",
              "            color:  #000000;\n",
              "        }#T_bea63426_66b5_11eb_8016_0242ac1c0002row2_col7{\n",
              "            background-color:  #f7fcc7;\n",
              "            color:  #000000;\n",
              "        }#T_bea63426_66b5_11eb_8016_0242ac1c0002row2_col8,#T_bea63426_66b5_11eb_8016_0242ac1c0002row4_col7,#T_bea63426_66b5_11eb_8016_0242ac1c0002row12_col0,#T_bea63426_66b5_11eb_8016_0242ac1c0002row13_col0{\n",
              "            background-color:  #e9f7b1;\n",
              "            color:  #000000;\n",
              "        }#T_bea63426_66b5_11eb_8016_0242ac1c0002row2_col9,#T_bea63426_66b5_11eb_8016_0242ac1c0002row2_col14,#T_bea63426_66b5_11eb_8016_0242ac1c0002row5_col14{\n",
              "            background-color:  #80cebb;\n",
              "            color:  #000000;\n",
              "        }#T_bea63426_66b5_11eb_8016_0242ac1c0002row2_col11,#T_bea63426_66b5_11eb_8016_0242ac1c0002row4_col2,#T_bea63426_66b5_11eb_8016_0242ac1c0002row5_col11,#T_bea63426_66b5_11eb_8016_0242ac1c0002row12_col2{\n",
              "            background-color:  #e8f6b1;\n",
              "            color:  #000000;\n",
              "        }#T_bea63426_66b5_11eb_8016_0242ac1c0002row2_col12,#T_bea63426_66b5_11eb_8016_0242ac1c0002row3_col12,#T_bea63426_66b5_11eb_8016_0242ac1c0002row11_col12{\n",
              "            background-color:  #40b5c4;\n",
              "            color:  #000000;\n",
              "        }#T_bea63426_66b5_11eb_8016_0242ac1c0002row2_col13,#T_bea63426_66b5_11eb_8016_0242ac1c0002row5_col13,#T_bea63426_66b5_11eb_8016_0242ac1c0002row13_col1{\n",
              "            background-color:  #edf8b2;\n",
              "            color:  #000000;\n",
              "        }#T_bea63426_66b5_11eb_8016_0242ac1c0002row3_col0,#T_bea63426_66b5_11eb_8016_0242ac1c0002row3_col13,#T_bea63426_66b5_11eb_8016_0242ac1c0002row6_col11{\n",
              "            background-color:  #f3fabf;\n",
              "            color:  #000000;\n",
              "        }#T_bea63426_66b5_11eb_8016_0242ac1c0002row3_col1,#T_bea63426_66b5_11eb_8016_0242ac1c0002row13_col7{\n",
              "            background-color:  #f8fcc9;\n",
              "            color:  #000000;\n",
              "        }#T_bea63426_66b5_11eb_8016_0242ac1c0002row3_col2,#T_bea63426_66b5_11eb_8016_0242ac1c0002row3_col9,#T_bea63426_66b5_11eb_8016_0242ac1c0002row14_col2{\n",
              "            background-color:  #dff2b2;\n",
              "            color:  #000000;\n",
              "        }#T_bea63426_66b5_11eb_8016_0242ac1c0002row3_col7{\n",
              "            background-color:  #d4eeb3;\n",
              "            color:  #000000;\n",
              "        }#T_bea63426_66b5_11eb_8016_0242ac1c0002row3_col8,#T_bea63426_66b5_11eb_8016_0242ac1c0002row6_col9{\n",
              "            background-color:  #9cd8b8;\n",
              "            color:  #000000;\n",
              "        }#T_bea63426_66b5_11eb_8016_0242ac1c0002row3_col10,#T_bea63426_66b5_11eb_8016_0242ac1c0002row4_col10,#T_bea63426_66b5_11eb_8016_0242ac1c0002row6_col10{\n",
              "            background-color:  #f4fbc0;\n",
              "            color:  #000000;\n",
              "        }#T_bea63426_66b5_11eb_8016_0242ac1c0002row3_col14{\n",
              "            background-color:  #85cfba;\n",
              "            color:  #000000;\n",
              "        }#T_bea63426_66b5_11eb_8016_0242ac1c0002row4_col0,#T_bea63426_66b5_11eb_8016_0242ac1c0002row10_col7{\n",
              "            background-color:  #f0f9b7;\n",
              "            color:  #000000;\n",
              "        }#T_bea63426_66b5_11eb_8016_0242ac1c0002row4_col3{\n",
              "            background-color:  #99d7b8;\n",
              "            color:  #000000;\n",
              "        }#T_bea63426_66b5_11eb_8016_0242ac1c0002row4_col5,#T_bea63426_66b5_11eb_8016_0242ac1c0002row12_col13,#T_bea63426_66b5_11eb_8016_0242ac1c0002row14_col0{\n",
              "            background-color:  #edf8b1;\n",
              "            color:  #000000;\n",
              "        }#T_bea63426_66b5_11eb_8016_0242ac1c0002row4_col6,#T_bea63426_66b5_11eb_8016_0242ac1c0002row5_col9,#T_bea63426_66b5_11eb_8016_0242ac1c0002row9_col14{\n",
              "            background-color:  #90d4b9;\n",
              "            color:  #000000;\n",
              "        }#T_bea63426_66b5_11eb_8016_0242ac1c0002row4_col8,#T_bea63426_66b5_11eb_8016_0242ac1c0002row14_col9{\n",
              "            background-color:  #c9eab4;\n",
              "            color:  #000000;\n",
              "        }#T_bea63426_66b5_11eb_8016_0242ac1c0002row4_col9{\n",
              "            background-color:  #d0edb3;\n",
              "            color:  #000000;\n",
              "        }#T_bea63426_66b5_11eb_8016_0242ac1c0002row4_col11,#T_bea63426_66b5_11eb_8016_0242ac1c0002row7_col1,#T_bea63426_66b5_11eb_8016_0242ac1c0002row8_col11{\n",
              "            background-color:  #fbfdd0;\n",
              "            color:  #000000;\n",
              "        }#T_bea63426_66b5_11eb_8016_0242ac1c0002row4_col13,#T_bea63426_66b5_11eb_8016_0242ac1c0002row5_col7,#T_bea63426_66b5_11eb_8016_0242ac1c0002row8_col5{\n",
              "            background-color:  #f5fbc4;\n",
              "            color:  #000000;\n",
              "        }#T_bea63426_66b5_11eb_8016_0242ac1c0002row5_col0{\n",
              "            background-color:  #1e2e85;\n",
              "            color:  #f1f1f1;\n",
              "        }#T_bea63426_66b5_11eb_8016_0242ac1c0002row5_col1,#T_bea63426_66b5_11eb_8016_0242ac1c0002row8_col14{\n",
              "            background-color:  #6dc6be;\n",
              "            color:  #000000;\n",
              "        }#T_bea63426_66b5_11eb_8016_0242ac1c0002row5_col3{\n",
              "            background-color:  #b2e1b6;\n",
              "            color:  #000000;\n",
              "        }#T_bea63426_66b5_11eb_8016_0242ac1c0002row5_col6{\n",
              "            background-color:  #2b9fc2;\n",
              "            color:  #000000;\n",
              "        }#T_bea63426_66b5_11eb_8016_0242ac1c0002row5_col8,#T_bea63426_66b5_11eb_8016_0242ac1c0002row9_col10{\n",
              "            background-color:  #daf0b3;\n",
              "            color:  #000000;\n",
              "        }#T_bea63426_66b5_11eb_8016_0242ac1c0002row5_col10{\n",
              "            background-color:  #feffd8;\n",
              "            color:  #000000;\n",
              "        }#T_bea63426_66b5_11eb_8016_0242ac1c0002row6_col0,#T_bea63426_66b5_11eb_8016_0242ac1c0002row9_col6{\n",
              "            background-color:  #71c8bd;\n",
              "            color:  #000000;\n",
              "        }#T_bea63426_66b5_11eb_8016_0242ac1c0002row6_col1,#T_bea63426_66b5_11eb_8016_0242ac1c0002row14_col13{\n",
              "            background-color:  #cfecb3;\n",
              "            color:  #000000;\n",
              "        }#T_bea63426_66b5_11eb_8016_0242ac1c0002row6_col2{\n",
              "            background-color:  #2ea3c2;\n",
              "            color:  #000000;\n",
              "        }#T_bea63426_66b5_11eb_8016_0242ac1c0002row6_col5{\n",
              "            background-color:  #59bfc0;\n",
              "            color:  #000000;\n",
              "        }#T_bea63426_66b5_11eb_8016_0242ac1c0002row6_col8{\n",
              "            background-color:  #dcf1b2;\n",
              "            color:  #000000;\n",
              "        }#T_bea63426_66b5_11eb_8016_0242ac1c0002row6_col13,#T_bea63426_66b5_11eb_8016_0242ac1c0002row7_col10,#T_bea63426_66b5_11eb_8016_0242ac1c0002row8_col13,#T_bea63426_66b5_11eb_8016_0242ac1c0002row11_col13{\n",
              "            background-color:  #f0f9b8;\n",
              "            color:  #000000;\n",
              "        }#T_bea63426_66b5_11eb_8016_0242ac1c0002row6_col14,#T_bea63426_66b5_11eb_8016_0242ac1c0002row7_col14{\n",
              "            background-color:  #87d0ba;\n",
              "            color:  #000000;\n",
              "        }#T_bea63426_66b5_11eb_8016_0242ac1c0002row7_col0{\n",
              "            background-color:  #f5fbc2;\n",
              "            color:  #000000;\n",
              "        }#T_bea63426_66b5_11eb_8016_0242ac1c0002row7_col2,#T_bea63426_66b5_11eb_8016_0242ac1c0002row10_col1{\n",
              "            background-color:  #f8fcca;\n",
              "            color:  #000000;\n",
              "        }#T_bea63426_66b5_11eb_8016_0242ac1c0002row7_col3{\n",
              "            background-color:  #7acbbc;\n",
              "            color:  #000000;\n",
              "        }#T_bea63426_66b5_11eb_8016_0242ac1c0002row7_col5{\n",
              "            background-color:  #f7fcc6;\n",
              "            color:  #000000;\n",
              "        }#T_bea63426_66b5_11eb_8016_0242ac1c0002row7_col8{\n",
              "            background-color:  #3aaec3;\n",
              "            color:  #000000;\n",
              "        }#T_bea63426_66b5_11eb_8016_0242ac1c0002row7_col9{\n",
              "            background-color:  #eef8b3;\n",
              "            color:  #000000;\n",
              "        }#T_bea63426_66b5_11eb_8016_0242ac1c0002row7_col11,#T_bea63426_66b5_11eb_8016_0242ac1c0002row12_col11{\n",
              "            background-color:  #fafdcf;\n",
              "            color:  #000000;\n",
              "        }#T_bea63426_66b5_11eb_8016_0242ac1c0002row8_col1,#T_bea63426_66b5_11eb_8016_0242ac1c0002row14_col11{\n",
              "            background-color:  #fafdce;\n",
              "            color:  #000000;\n",
              "        }#T_bea63426_66b5_11eb_8016_0242ac1c0002row8_col3{\n",
              "            background-color:  #73c8bd;\n",
              "            color:  #000000;\n",
              "        }#T_bea63426_66b5_11eb_8016_0242ac1c0002row8_col7{\n",
              "            background-color:  #55bec1;\n",
              "            color:  #000000;\n",
              "        }#T_bea63426_66b5_11eb_8016_0242ac1c0002row8_col10,#T_bea63426_66b5_11eb_8016_0242ac1c0002row9_col1{\n",
              "            background-color:  #ecf7b1;\n",
              "            color:  #000000;\n",
              "        }#T_bea63426_66b5_11eb_8016_0242ac1c0002row9_col0,#T_bea63426_66b5_11eb_8016_0242ac1c0002row14_col4{\n",
              "            background-color:  #ceecb3;\n",
              "            color:  #000000;\n",
              "        }#T_bea63426_66b5_11eb_8016_0242ac1c0002row9_col2,#T_bea63426_66b5_11eb_8016_0242ac1c0002row10_col3,#T_bea63426_66b5_11eb_8016_0242ac1c0002row10_col6{\n",
              "            background-color:  #b4e2b6;\n",
              "            color:  #000000;\n",
              "        }#T_bea63426_66b5_11eb_8016_0242ac1c0002row9_col3{\n",
              "            background-color:  #c0e6b5;\n",
              "            color:  #000000;\n",
              "        }#T_bea63426_66b5_11eb_8016_0242ac1c0002row9_col4{\n",
              "            background-color:  #4cbac2;\n",
              "            color:  #000000;\n",
              "        }#T_bea63426_66b5_11eb_8016_0242ac1c0002row9_col5,#T_bea63426_66b5_11eb_8016_0242ac1c0002row11_col8,#T_bea63426_66b5_11eb_8016_0242ac1c0002row13_col9{\n",
              "            background-color:  #c8e9b4;\n",
              "            color:  #000000;\n",
              "        }#T_bea63426_66b5_11eb_8016_0242ac1c0002row9_col12{\n",
              "            background-color:  #3bb0c3;\n",
              "            color:  #000000;\n",
              "        }#T_bea63426_66b5_11eb_8016_0242ac1c0002row10_col4{\n",
              "            background-color:  #53bdc1;\n",
              "            color:  #000000;\n",
              "        }#T_bea63426_66b5_11eb_8016_0242ac1c0002row10_col8,#T_bea63426_66b5_11eb_8016_0242ac1c0002row11_col2{\n",
              "            background-color:  #caeab4;\n",
              "            color:  #000000;\n",
              "        }#T_bea63426_66b5_11eb_8016_0242ac1c0002row10_col9{\n",
              "            background-color:  #b0e0b6;\n",
              "            color:  #000000;\n",
              "        }#T_bea63426_66b5_11eb_8016_0242ac1c0002row10_col12{\n",
              "            background-color:  #36abc3;\n",
              "            color:  #000000;\n",
              "        }#T_bea63426_66b5_11eb_8016_0242ac1c0002row10_col13,#T_bea63426_66b5_11eb_8016_0242ac1c0002row14_col1{\n",
              "            background-color:  #e3f4b2;\n",
              "            color:  #000000;\n",
              "        }#T_bea63426_66b5_11eb_8016_0242ac1c0002row10_col14{\n",
              "            background-color:  #6fc7bd;\n",
              "            color:  #000000;\n",
              "        }#T_bea63426_66b5_11eb_8016_0242ac1c0002row11_col0,#T_bea63426_66b5_11eb_8016_0242ac1c0002row11_col5{\n",
              "            background-color:  #cbebb4;\n",
              "            color:  #000000;\n",
              "        }#T_bea63426_66b5_11eb_8016_0242ac1c0002row11_col1{\n",
              "            background-color:  #f2fabc;\n",
              "            color:  #000000;\n",
              "        }#T_bea63426_66b5_11eb_8016_0242ac1c0002row11_col3{\n",
              "            background-color:  #a5dcb7;\n",
              "            color:  #000000;\n",
              "        }#T_bea63426_66b5_11eb_8016_0242ac1c0002row11_col6{\n",
              "            background-color:  #83cebb;\n",
              "            color:  #000000;\n",
              "        }#T_bea63426_66b5_11eb_8016_0242ac1c0002row11_col7{\n",
              "            background-color:  #e7f6b1;\n",
              "            color:  #000000;\n",
              "        }#T_bea63426_66b5_11eb_8016_0242ac1c0002row11_col10{\n",
              "            background-color:  #eaf7b1;\n",
              "            color:  #000000;\n",
              "        }#T_bea63426_66b5_11eb_8016_0242ac1c0002row12_col5{\n",
              "            background-color:  #e6f5b2;\n",
              "            color:  #000000;\n",
              "        }#T_bea63426_66b5_11eb_8016_0242ac1c0002row12_col6,#T_bea63426_66b5_11eb_8016_0242ac1c0002row13_col3{\n",
              "            background-color:  #9ed9b8;\n",
              "            color:  #000000;\n",
              "        }#T_bea63426_66b5_11eb_8016_0242ac1c0002row12_col8{\n",
              "            background-color:  #c2e7b4;\n",
              "            color:  #000000;\n",
              "        }#T_bea63426_66b5_11eb_8016_0242ac1c0002row12_col9{\n",
              "            background-color:  #b7e3b6;\n",
              "            color:  #000000;\n",
              "        }#T_bea63426_66b5_11eb_8016_0242ac1c0002row12_col10{\n",
              "            background-color:  #d5efb3;\n",
              "            color:  #000000;\n",
              "        }#T_bea63426_66b5_11eb_8016_0242ac1c0002row12_col14{\n",
              "            background-color:  #2072b1;\n",
              "            color:  #f1f1f1;\n",
              "        }#T_bea63426_66b5_11eb_8016_0242ac1c0002row13_col2{\n",
              "            background-color:  #e0f3b2;\n",
              "            color:  #000000;\n",
              "        }#T_bea63426_66b5_11eb_8016_0242ac1c0002row13_col4{\n",
              "            background-color:  #4ab9c3;\n",
              "            color:  #000000;\n",
              "        }#T_bea63426_66b5_11eb_8016_0242ac1c0002row13_col5,#T_bea63426_66b5_11eb_8016_0242ac1c0002row14_col7{\n",
              "            background-color:  #e2f4b2;\n",
              "            color:  #000000;\n",
              "        }#T_bea63426_66b5_11eb_8016_0242ac1c0002row13_col8{\n",
              "            background-color:  #c4e8b4;\n",
              "            color:  #000000;\n",
              "        }#T_bea63426_66b5_11eb_8016_0242ac1c0002row13_col10{\n",
              "            background-color:  #d6efb3;\n",
              "            color:  #000000;\n",
              "        }#T_bea63426_66b5_11eb_8016_0242ac1c0002row13_col11{\n",
              "            background-color:  #f9fdcc;\n",
              "            color:  #000000;\n",
              "        }#T_bea63426_66b5_11eb_8016_0242ac1c0002row13_col12{\n",
              "            background-color:  #3cb1c3;\n",
              "            color:  #000000;\n",
              "        }#T_bea63426_66b5_11eb_8016_0242ac1c0002row13_col14{\n",
              "            background-color:  #5fc1c0;\n",
              "            color:  #000000;\n",
              "        }#T_bea63426_66b5_11eb_8016_0242ac1c0002row14_col3{\n",
              "            background-color:  #8ed3ba;\n",
              "            color:  #000000;\n",
              "        }#T_bea63426_66b5_11eb_8016_0242ac1c0002row14_col5{\n",
              "            background-color:  #e1f3b2;\n",
              "            color:  #000000;\n",
              "        }#T_bea63426_66b5_11eb_8016_0242ac1c0002row14_col6{\n",
              "            background-color:  #92d5b9;\n",
              "            color:  #000000;\n",
              "        }#T_bea63426_66b5_11eb_8016_0242ac1c0002row14_col8{\n",
              "            background-color:  #a0dab8;\n",
              "            color:  #000000;\n",
              "        }#T_bea63426_66b5_11eb_8016_0242ac1c0002row14_col10{\n",
              "            background-color:  #d1edb3;\n",
              "            color:  #000000;\n",
              "        }#T_bea63426_66b5_11eb_8016_0242ac1c0002row14_col12{\n",
              "            background-color:  #2356a4;\n",
              "            color:  #f1f1f1;\n",
              "        }</style><table id=\"T_bea63426_66b5_11eb_8016_0242ac1c0002\" ><thead>    <tr>        <th class=\"blank level0\" ></th>        <th class=\"col_heading level0 col0\" >ApplicantIncome</th>        <th class=\"col_heading level0 col1\" >CoapplicantIncome</th>        <th class=\"col_heading level0 col2\" >LoanAmount</th>        <th class=\"col_heading level0 col3\" >Loan_Amount_Term</th>        <th class=\"col_heading level0 col4\" >Credit_History</th>        <th class=\"col_heading level0 col5\" >TotalIncome</th>        <th class=\"col_heading level0 col6\" >EMI</th>        <th class=\"col_heading level0 col7\" >gender_Index</th>        <th class=\"col_heading level0 col8\" >married_Index</th>        <th class=\"col_heading level0 col9\" >dependents_Index</th>        <th class=\"col_heading level0 col10\" >education_Index</th>        <th class=\"col_heading level0 col11\" >selfemp_Index</th>        <th class=\"col_heading level0 col12\" >credit_Index</th>        <th class=\"col_heading level0 col13\" >property_Index</th>        <th class=\"col_heading level0 col14\" >loanstatus_Index</th>    </tr></thead><tbody>\n",
              "                <tr>\n",
              "                        <th id=\"T_bea63426_66b5_11eb_8016_0242ac1c0002level0_row0\" class=\"row_heading level0 row0\" >ApplicantIncome</th>\n",
              "                        <td id=\"T_bea63426_66b5_11eb_8016_0242ac1c0002row0_col0\" class=\"data row0 col0\" >1.00</td>\n",
              "                        <td id=\"T_bea63426_66b5_11eb_8016_0242ac1c0002row0_col1\" class=\"data row0 col1\" >-0.12</td>\n",
              "                        <td id=\"T_bea63426_66b5_11eb_8016_0242ac1c0002row0_col2\" class=\"data row0 col2\" >0.57</td>\n",
              "                        <td id=\"T_bea63426_66b5_11eb_8016_0242ac1c0002row0_col3\" class=\"data row0 col3\" >-0.05</td>\n",
              "                        <td id=\"T_bea63426_66b5_11eb_8016_0242ac1c0002row0_col4\" class=\"data row0 col4\" >-0.02</td>\n",
              "                        <td id=\"T_bea63426_66b5_11eb_8016_0242ac1c0002row0_col5\" class=\"data row0 col5\" >0.89</td>\n",
              "                        <td id=\"T_bea63426_66b5_11eb_8016_0242ac1c0002row0_col6\" class=\"data row0 col6\" >0.32</td>\n",
              "                        <td id=\"T_bea63426_66b5_11eb_8016_0242ac1c0002row0_col7\" class=\"data row0 col7\" >-0.06</td>\n",
              "                        <td id=\"T_bea63426_66b5_11eb_8016_0242ac1c0002row0_col8\" class=\"data row0 col8\" >-0.05</td>\n",
              "                        <td id=\"T_bea63426_66b5_11eb_8016_0242ac1c0002row0_col9\" class=\"data row0 col9\" >0.12</td>\n",
              "                        <td id=\"T_bea63426_66b5_11eb_8016_0242ac1c0002row0_col10\" class=\"data row0 col10\" >-0.14</td>\n",
              "                        <td id=\"T_bea63426_66b5_11eb_8016_0242ac1c0002row0_col11\" class=\"data row0 col11\" >0.13</td>\n",
              "                        <td id=\"T_bea63426_66b5_11eb_8016_0242ac1c0002row0_col12\" class=\"data row0 col12\" >0.02</td>\n",
              "                        <td id=\"T_bea63426_66b5_11eb_8016_0242ac1c0002row0_col13\" class=\"data row0 col13\" >0.02</td>\n",
              "                        <td id=\"T_bea63426_66b5_11eb_8016_0242ac1c0002row0_col14\" class=\"data row0 col14\" >0.00</td>\n",
              "            </tr>\n",
              "            <tr>\n",
              "                        <th id=\"T_bea63426_66b5_11eb_8016_0242ac1c0002level0_row1\" class=\"row_heading level0 row1\" >CoapplicantIncome</th>\n",
              "                        <td id=\"T_bea63426_66b5_11eb_8016_0242ac1c0002row1_col0\" class=\"data row1 col0\" >-0.12</td>\n",
              "                        <td id=\"T_bea63426_66b5_11eb_8016_0242ac1c0002row1_col1\" class=\"data row1 col1\" >1.00</td>\n",
              "                        <td id=\"T_bea63426_66b5_11eb_8016_0242ac1c0002row1_col2\" class=\"data row1 col2\" >0.19</td>\n",
              "                        <td id=\"T_bea63426_66b5_11eb_8016_0242ac1c0002row1_col3\" class=\"data row1 col3\" >-0.06</td>\n",
              "                        <td id=\"T_bea63426_66b5_11eb_8016_0242ac1c0002row1_col4\" class=\"data row1 col4\" >0.01</td>\n",
              "                        <td id=\"T_bea63426_66b5_11eb_8016_0242ac1c0002row1_col5\" class=\"data row1 col5\" >0.34</td>\n",
              "                        <td id=\"T_bea63426_66b5_11eb_8016_0242ac1c0002row1_col6\" class=\"data row1 col6\" >0.14</td>\n",
              "                        <td id=\"T_bea63426_66b5_11eb_8016_0242ac1c0002row1_col7\" class=\"data row1 col7\" >-0.08</td>\n",
              "                        <td id=\"T_bea63426_66b5_11eb_8016_0242ac1c0002row1_col8\" class=\"data row1 col8\" >-0.08</td>\n",
              "                        <td id=\"T_bea63426_66b5_11eb_8016_0242ac1c0002row1_col9\" class=\"data row1 col9\" >0.03</td>\n",
              "                        <td id=\"T_bea63426_66b5_11eb_8016_0242ac1c0002row1_col10\" class=\"data row1 col10\" >-0.06</td>\n",
              "                        <td id=\"T_bea63426_66b5_11eb_8016_0242ac1c0002row1_col11\" class=\"data row1 col11\" >-0.02</td>\n",
              "                        <td id=\"T_bea63426_66b5_11eb_8016_0242ac1c0002row1_col12\" class=\"data row1 col12\" >-0.01</td>\n",
              "                        <td id=\"T_bea63426_66b5_11eb_8016_0242ac1c0002row1_col13\" class=\"data row1 col13\" >0.02</td>\n",
              "                        <td id=\"T_bea63426_66b5_11eb_8016_0242ac1c0002row1_col14\" class=\"data row1 col14\" >0.06</td>\n",
              "            </tr>\n",
              "            <tr>\n",
              "                        <th id=\"T_bea63426_66b5_11eb_8016_0242ac1c0002level0_row2\" class=\"row_heading level0 row2\" >LoanAmount</th>\n",
              "                        <td id=\"T_bea63426_66b5_11eb_8016_0242ac1c0002row2_col0\" class=\"data row2 col0\" >0.57</td>\n",
              "                        <td id=\"T_bea63426_66b5_11eb_8016_0242ac1c0002row2_col1\" class=\"data row2 col1\" >0.19</td>\n",
              "                        <td id=\"T_bea63426_66b5_11eb_8016_0242ac1c0002row2_col2\" class=\"data row2 col2\" >1.00</td>\n",
              "                        <td id=\"T_bea63426_66b5_11eb_8016_0242ac1c0002row2_col3\" class=\"data row2 col3\" >0.04</td>\n",
              "                        <td id=\"T_bea63426_66b5_11eb_8016_0242ac1c0002row2_col4\" class=\"data row2 col4\" >-0.00</td>\n",
              "                        <td id=\"T_bea63426_66b5_11eb_8016_0242ac1c0002row2_col5\" class=\"data row2 col5\" >0.62</td>\n",
              "                        <td id=\"T_bea63426_66b5_11eb_8016_0242ac1c0002row2_col6\" class=\"data row2 col6\" >0.49</td>\n",
              "                        <td id=\"T_bea63426_66b5_11eb_8016_0242ac1c0002row2_col7\" class=\"data row2 col7\" >-0.11</td>\n",
              "                        <td id=\"T_bea63426_66b5_11eb_8016_0242ac1c0002row2_col8\" class=\"data row2 col8\" >-0.15</td>\n",
              "                        <td id=\"T_bea63426_66b5_11eb_8016_0242ac1c0002row2_col9\" class=\"data row2 col9\" >0.16</td>\n",
              "                        <td id=\"T_bea63426_66b5_11eb_8016_0242ac1c0002row2_col10\" class=\"data row2 col10\" >-0.17</td>\n",
              "                        <td id=\"T_bea63426_66b5_11eb_8016_0242ac1c0002row2_col11\" class=\"data row2 col11\" >0.12</td>\n",
              "                        <td id=\"T_bea63426_66b5_11eb_8016_0242ac1c0002row2_col12\" class=\"data row2 col12\" >0.00</td>\n",
              "                        <td id=\"T_bea63426_66b5_11eb_8016_0242ac1c0002row2_col13\" class=\"data row2 col13\" >0.03</td>\n",
              "                        <td id=\"T_bea63426_66b5_11eb_8016_0242ac1c0002row2_col14\" class=\"data row2 col14\" >0.04</td>\n",
              "            </tr>\n",
              "            <tr>\n",
              "                        <th id=\"T_bea63426_66b5_11eb_8016_0242ac1c0002level0_row3\" class=\"row_heading level0 row3\" >Loan_Amount_Term</th>\n",
              "                        <td id=\"T_bea63426_66b5_11eb_8016_0242ac1c0002row3_col0\" class=\"data row3 col0\" >-0.05</td>\n",
              "                        <td id=\"T_bea63426_66b5_11eb_8016_0242ac1c0002row3_col1\" class=\"data row3 col1\" >-0.06</td>\n",
              "                        <td id=\"T_bea63426_66b5_11eb_8016_0242ac1c0002row3_col2\" class=\"data row3 col2\" >0.04</td>\n",
              "                        <td id=\"T_bea63426_66b5_11eb_8016_0242ac1c0002row3_col3\" class=\"data row3 col3\" >1.00</td>\n",
              "                        <td id=\"T_bea63426_66b5_11eb_8016_0242ac1c0002row3_col4\" class=\"data row3 col4\" >-0.00</td>\n",
              "                        <td id=\"T_bea63426_66b5_11eb_8016_0242ac1c0002row3_col5\" class=\"data row3 col5\" >-0.07</td>\n",
              "                        <td id=\"T_bea63426_66b5_11eb_8016_0242ac1c0002row3_col6\" class=\"data row3 col6\" >-0.50</td>\n",
              "                        <td id=\"T_bea63426_66b5_11eb_8016_0242ac1c0002row3_col7\" class=\"data row3 col7\" >0.07</td>\n",
              "                        <td id=\"T_bea63426_66b5_11eb_8016_0242ac1c0002row3_col8\" class=\"data row3 col8\" >0.10</td>\n",
              "                        <td id=\"T_bea63426_66b5_11eb_8016_0242ac1c0002row3_col9\" class=\"data row3 col9\" >-0.10</td>\n",
              "                        <td id=\"T_bea63426_66b5_11eb_8016_0242ac1c0002row3_col10\" class=\"data row3 col10\" >-0.07</td>\n",
              "                        <td id=\"T_bea63426_66b5_11eb_8016_0242ac1c0002row3_col11\" class=\"data row3 col11\" >-0.03</td>\n",
              "                        <td id=\"T_bea63426_66b5_11eb_8016_0242ac1c0002row3_col12\" class=\"data row3 col12\" >0.00</td>\n",
              "                        <td id=\"T_bea63426_66b5_11eb_8016_0242ac1c0002row3_col13\" class=\"data row3 col13\" >-0.02</td>\n",
              "                        <td id=\"T_bea63426_66b5_11eb_8016_0242ac1c0002row3_col14\" class=\"data row3 col14\" >0.02</td>\n",
              "            </tr>\n",
              "            <tr>\n",
              "                        <th id=\"T_bea63426_66b5_11eb_8016_0242ac1c0002level0_row4\" class=\"row_heading level0 row4\" >Credit_History</th>\n",
              "                        <td id=\"T_bea63426_66b5_11eb_8016_0242ac1c0002row4_col0\" class=\"data row4 col0\" >-0.02</td>\n",
              "                        <td id=\"T_bea63426_66b5_11eb_8016_0242ac1c0002row4_col1\" class=\"data row4 col1\" >0.01</td>\n",
              "                        <td id=\"T_bea63426_66b5_11eb_8016_0242ac1c0002row4_col2\" class=\"data row4 col2\" >-0.00</td>\n",
              "                        <td id=\"T_bea63426_66b5_11eb_8016_0242ac1c0002row4_col3\" class=\"data row4 col3\" >-0.00</td>\n",
              "                        <td id=\"T_bea63426_66b5_11eb_8016_0242ac1c0002row4_col4\" class=\"data row4 col4\" >1.00</td>\n",
              "                        <td id=\"T_bea63426_66b5_11eb_8016_0242ac1c0002row4_col5\" class=\"data row4 col5\" >-0.01</td>\n",
              "                        <td id=\"T_bea63426_66b5_11eb_8016_0242ac1c0002row4_col6\" class=\"data row4 col6\" >0.02</td>\n",
              "                        <td id=\"T_bea63426_66b5_11eb_8016_0242ac1c0002row4_col7\" class=\"data row4 col7\" >-0.01</td>\n",
              "                        <td id=\"T_bea63426_66b5_11eb_8016_0242ac1c0002row4_col8\" class=\"data row4 col8\" >-0.01</td>\n",
              "                        <td id=\"T_bea63426_66b5_11eb_8016_0242ac1c0002row4_col9\" class=\"data row4 col9\" >-0.04</td>\n",
              "                        <td id=\"T_bea63426_66b5_11eb_8016_0242ac1c0002row4_col10\" class=\"data row4 col10\" >-0.07</td>\n",
              "                        <td id=\"T_bea63426_66b5_11eb_8016_0242ac1c0002row4_col11\" class=\"data row4 col11\" >-0.00</td>\n",
              "                        <td id=\"T_bea63426_66b5_11eb_8016_0242ac1c0002row4_col12\" class=\"data row4 col12\" >-1.00</td>\n",
              "                        <td id=\"T_bea63426_66b5_11eb_8016_0242ac1c0002row4_col13\" class=\"data row4 col13\" >-0.03</td>\n",
              "                        <td id=\"T_bea63426_66b5_11eb_8016_0242ac1c0002row4_col14\" class=\"data row4 col14\" >-0.54</td>\n",
              "            </tr>\n",
              "            <tr>\n",
              "                        <th id=\"T_bea63426_66b5_11eb_8016_0242ac1c0002level0_row5\" class=\"row_heading level0 row5\" >TotalIncome</th>\n",
              "                        <td id=\"T_bea63426_66b5_11eb_8016_0242ac1c0002row5_col0\" class=\"data row5 col0\" >0.89</td>\n",
              "                        <td id=\"T_bea63426_66b5_11eb_8016_0242ac1c0002row5_col1\" class=\"data row5 col1\" >0.34</td>\n",
              "                        <td id=\"T_bea63426_66b5_11eb_8016_0242ac1c0002row5_col2\" class=\"data row5 col2\" >0.62</td>\n",
              "                        <td id=\"T_bea63426_66b5_11eb_8016_0242ac1c0002row5_col3\" class=\"data row5 col3\" >-0.07</td>\n",
              "                        <td id=\"T_bea63426_66b5_11eb_8016_0242ac1c0002row5_col4\" class=\"data row5 col4\" >-0.01</td>\n",
              "                        <td id=\"T_bea63426_66b5_11eb_8016_0242ac1c0002row5_col5\" class=\"data row5 col5\" >1.00</td>\n",
              "                        <td id=\"T_bea63426_66b5_11eb_8016_0242ac1c0002row5_col6\" class=\"data row5 col6\" >0.36</td>\n",
              "                        <td id=\"T_bea63426_66b5_11eb_8016_0242ac1c0002row5_col7\" class=\"data row5 col7\" >-0.09</td>\n",
              "                        <td id=\"T_bea63426_66b5_11eb_8016_0242ac1c0002row5_col8\" class=\"data row5 col8\" >-0.08</td>\n",
              "                        <td id=\"T_bea63426_66b5_11eb_8016_0242ac1c0002row5_col9\" class=\"data row5 col9\" >0.13</td>\n",
              "                        <td id=\"T_bea63426_66b5_11eb_8016_0242ac1c0002row5_col10\" class=\"data row5 col10\" >-0.16</td>\n",
              "                        <td id=\"T_bea63426_66b5_11eb_8016_0242ac1c0002row5_col11\" class=\"data row5 col11\" >0.11</td>\n",
              "                        <td id=\"T_bea63426_66b5_11eb_8016_0242ac1c0002row5_col12\" class=\"data row5 col12\" >0.01</td>\n",
              "                        <td id=\"T_bea63426_66b5_11eb_8016_0242ac1c0002row5_col13\" class=\"data row5 col13\" >0.03</td>\n",
              "                        <td id=\"T_bea63426_66b5_11eb_8016_0242ac1c0002row5_col14\" class=\"data row5 col14\" >0.03</td>\n",
              "            </tr>\n",
              "            <tr>\n",
              "                        <th id=\"T_bea63426_66b5_11eb_8016_0242ac1c0002level0_row6\" class=\"row_heading level0 row6\" >EMI</th>\n",
              "                        <td id=\"T_bea63426_66b5_11eb_8016_0242ac1c0002row6_col0\" class=\"data row6 col0\" >0.32</td>\n",
              "                        <td id=\"T_bea63426_66b5_11eb_8016_0242ac1c0002row6_col1\" class=\"data row6 col1\" >0.14</td>\n",
              "                        <td id=\"T_bea63426_66b5_11eb_8016_0242ac1c0002row6_col2\" class=\"data row6 col2\" >0.49</td>\n",
              "                        <td id=\"T_bea63426_66b5_11eb_8016_0242ac1c0002row6_col3\" class=\"data row6 col3\" >-0.50</td>\n",
              "                        <td id=\"T_bea63426_66b5_11eb_8016_0242ac1c0002row6_col4\" class=\"data row6 col4\" >0.02</td>\n",
              "                        <td id=\"T_bea63426_66b5_11eb_8016_0242ac1c0002row6_col5\" class=\"data row6 col5\" >0.36</td>\n",
              "                        <td id=\"T_bea63426_66b5_11eb_8016_0242ac1c0002row6_col6\" class=\"data row6 col6\" >1.00</td>\n",
              "                        <td id=\"T_bea63426_66b5_11eb_8016_0242ac1c0002row6_col7\" class=\"data row6 col7\" >-0.06</td>\n",
              "                        <td id=\"T_bea63426_66b5_11eb_8016_0242ac1c0002row6_col8\" class=\"data row6 col8\" >-0.09</td>\n",
              "                        <td id=\"T_bea63426_66b5_11eb_8016_0242ac1c0002row6_col9\" class=\"data row6 col9\" >0.10</td>\n",
              "                        <td id=\"T_bea63426_66b5_11eb_8016_0242ac1c0002row6_col10\" class=\"data row6 col10\" >-0.08</td>\n",
              "                        <td id=\"T_bea63426_66b5_11eb_8016_0242ac1c0002row6_col11\" class=\"data row6 col11\" >0.05</td>\n",
              "                        <td id=\"T_bea63426_66b5_11eb_8016_0242ac1c0002row6_col12\" class=\"data row6 col12\" >-0.02</td>\n",
              "                        <td id=\"T_bea63426_66b5_11eb_8016_0242ac1c0002row6_col13\" class=\"data row6 col13\" >0.01</td>\n",
              "                        <td id=\"T_bea63426_66b5_11eb_8016_0242ac1c0002row6_col14\" class=\"data row6 col14\" >0.01</td>\n",
              "            </tr>\n",
              "            <tr>\n",
              "                        <th id=\"T_bea63426_66b5_11eb_8016_0242ac1c0002level0_row7\" class=\"row_heading level0 row7\" >gender_Index</th>\n",
              "                        <td id=\"T_bea63426_66b5_11eb_8016_0242ac1c0002row7_col0\" class=\"data row7 col0\" >-0.06</td>\n",
              "                        <td id=\"T_bea63426_66b5_11eb_8016_0242ac1c0002row7_col1\" class=\"data row7 col1\" >-0.08</td>\n",
              "                        <td id=\"T_bea63426_66b5_11eb_8016_0242ac1c0002row7_col2\" class=\"data row7 col2\" >-0.11</td>\n",
              "                        <td id=\"T_bea63426_66b5_11eb_8016_0242ac1c0002row7_col3\" class=\"data row7 col3\" >0.07</td>\n",
              "                        <td id=\"T_bea63426_66b5_11eb_8016_0242ac1c0002row7_col4\" class=\"data row7 col4\" >-0.01</td>\n",
              "                        <td id=\"T_bea63426_66b5_11eb_8016_0242ac1c0002row7_col5\" class=\"data row7 col5\" >-0.09</td>\n",
              "                        <td id=\"T_bea63426_66b5_11eb_8016_0242ac1c0002row7_col6\" class=\"data row7 col6\" >-0.06</td>\n",
              "                        <td id=\"T_bea63426_66b5_11eb_8016_0242ac1c0002row7_col7\" class=\"data row7 col7\" >1.00</td>\n",
              "                        <td id=\"T_bea63426_66b5_11eb_8016_0242ac1c0002row7_col8\" class=\"data row7 col8\" >0.36</td>\n",
              "                        <td id=\"T_bea63426_66b5_11eb_8016_0242ac1c0002row7_col9\" class=\"data row7 col9\" >-0.17</td>\n",
              "                        <td id=\"T_bea63426_66b5_11eb_8016_0242ac1c0002row7_col10\" class=\"data row7 col10\" >-0.05</td>\n",
              "                        <td id=\"T_bea63426_66b5_11eb_8016_0242ac1c0002row7_col11\" class=\"data row7 col11\" >0.00</td>\n",
              "                        <td id=\"T_bea63426_66b5_11eb_8016_0242ac1c0002row7_col12\" class=\"data row7 col12\" >0.01</td>\n",
              "                        <td id=\"T_bea63426_66b5_11eb_8016_0242ac1c0002row7_col13\" class=\"data row7 col13\" >-0.11</td>\n",
              "                        <td id=\"T_bea63426_66b5_11eb_8016_0242ac1c0002row7_col14\" class=\"data row7 col14\" >0.02</td>\n",
              "            </tr>\n",
              "            <tr>\n",
              "                        <th id=\"T_bea63426_66b5_11eb_8016_0242ac1c0002level0_row8\" class=\"row_heading level0 row8\" >married_Index</th>\n",
              "                        <td id=\"T_bea63426_66b5_11eb_8016_0242ac1c0002row8_col0\" class=\"data row8 col0\" >-0.05</td>\n",
              "                        <td id=\"T_bea63426_66b5_11eb_8016_0242ac1c0002row8_col1\" class=\"data row8 col1\" >-0.08</td>\n",
              "                        <td id=\"T_bea63426_66b5_11eb_8016_0242ac1c0002row8_col2\" class=\"data row8 col2\" >-0.15</td>\n",
              "                        <td id=\"T_bea63426_66b5_11eb_8016_0242ac1c0002row8_col3\" class=\"data row8 col3\" >0.10</td>\n",
              "                        <td id=\"T_bea63426_66b5_11eb_8016_0242ac1c0002row8_col4\" class=\"data row8 col4\" >-0.01</td>\n",
              "                        <td id=\"T_bea63426_66b5_11eb_8016_0242ac1c0002row8_col5\" class=\"data row8 col5\" >-0.08</td>\n",
              "                        <td id=\"T_bea63426_66b5_11eb_8016_0242ac1c0002row8_col6\" class=\"data row8 col6\" >-0.09</td>\n",
              "                        <td id=\"T_bea63426_66b5_11eb_8016_0242ac1c0002row8_col7\" class=\"data row8 col7\" >0.36</td>\n",
              "                        <td id=\"T_bea63426_66b5_11eb_8016_0242ac1c0002row8_col8\" class=\"data row8 col8\" >1.00</td>\n",
              "                        <td id=\"T_bea63426_66b5_11eb_8016_0242ac1c0002row8_col9\" class=\"data row8 col9\" >-0.33</td>\n",
              "                        <td id=\"T_bea63426_66b5_11eb_8016_0242ac1c0002row8_col10\" class=\"data row8 col10\" >-0.01</td>\n",
              "                        <td id=\"T_bea63426_66b5_11eb_8016_0242ac1c0002row8_col11\" class=\"data row8 col11\" >-0.00</td>\n",
              "                        <td id=\"T_bea63426_66b5_11eb_8016_0242ac1c0002row8_col12\" class=\"data row8 col12\" >0.01</td>\n",
              "                        <td id=\"T_bea63426_66b5_11eb_8016_0242ac1c0002row8_col13\" class=\"data row8 col13\" >0.01</td>\n",
              "                        <td id=\"T_bea63426_66b5_11eb_8016_0242ac1c0002row8_col14\" class=\"data row8 col14\" >0.09</td>\n",
              "            </tr>\n",
              "            <tr>\n",
              "                        <th id=\"T_bea63426_66b5_11eb_8016_0242ac1c0002level0_row9\" class=\"row_heading level0 row9\" >dependents_Index</th>\n",
              "                        <td id=\"T_bea63426_66b5_11eb_8016_0242ac1c0002row9_col0\" class=\"data row9 col0\" >0.12</td>\n",
              "                        <td id=\"T_bea63426_66b5_11eb_8016_0242ac1c0002row9_col1\" class=\"data row9 col1\" >0.03</td>\n",
              "                        <td id=\"T_bea63426_66b5_11eb_8016_0242ac1c0002row9_col2\" class=\"data row9 col2\" >0.16</td>\n",
              "                        <td id=\"T_bea63426_66b5_11eb_8016_0242ac1c0002row9_col3\" class=\"data row9 col3\" >-0.10</td>\n",
              "                        <td id=\"T_bea63426_66b5_11eb_8016_0242ac1c0002row9_col4\" class=\"data row9 col4\" >-0.04</td>\n",
              "                        <td id=\"T_bea63426_66b5_11eb_8016_0242ac1c0002row9_col5\" class=\"data row9 col5\" >0.13</td>\n",
              "                        <td id=\"T_bea63426_66b5_11eb_8016_0242ac1c0002row9_col6\" class=\"data row9 col6\" >0.10</td>\n",
              "                        <td id=\"T_bea63426_66b5_11eb_8016_0242ac1c0002row9_col7\" class=\"data row9 col7\" >-0.17</td>\n",
              "                        <td id=\"T_bea63426_66b5_11eb_8016_0242ac1c0002row9_col8\" class=\"data row9 col8\" >-0.33</td>\n",
              "                        <td id=\"T_bea63426_66b5_11eb_8016_0242ac1c0002row9_col9\" class=\"data row9 col9\" >1.00</td>\n",
              "                        <td id=\"T_bea63426_66b5_11eb_8016_0242ac1c0002row9_col10\" class=\"data row9 col10\" >0.06</td>\n",
              "                        <td id=\"T_bea63426_66b5_11eb_8016_0242ac1c0002row9_col11\" class=\"data row9 col11\" >0.06</td>\n",
              "                        <td id=\"T_bea63426_66b5_11eb_8016_0242ac1c0002row9_col12\" class=\"data row9 col12\" >0.04</td>\n",
              "                        <td id=\"T_bea63426_66b5_11eb_8016_0242ac1c0002row9_col13\" class=\"data row9 col13\" >-0.00</td>\n",
              "                        <td id=\"T_bea63426_66b5_11eb_8016_0242ac1c0002row9_col14\" class=\"data row9 col14\" >-0.01</td>\n",
              "            </tr>\n",
              "            <tr>\n",
              "                        <th id=\"T_bea63426_66b5_11eb_8016_0242ac1c0002level0_row10\" class=\"row_heading level0 row10\" >education_Index</th>\n",
              "                        <td id=\"T_bea63426_66b5_11eb_8016_0242ac1c0002row10_col0\" class=\"data row10 col0\" >-0.14</td>\n",
              "                        <td id=\"T_bea63426_66b5_11eb_8016_0242ac1c0002row10_col1\" class=\"data row10 col1\" >-0.06</td>\n",
              "                        <td id=\"T_bea63426_66b5_11eb_8016_0242ac1c0002row10_col2\" class=\"data row10 col2\" >-0.17</td>\n",
              "                        <td id=\"T_bea63426_66b5_11eb_8016_0242ac1c0002row10_col3\" class=\"data row10 col3\" >-0.07</td>\n",
              "                        <td id=\"T_bea63426_66b5_11eb_8016_0242ac1c0002row10_col4\" class=\"data row10 col4\" >-0.07</td>\n",
              "                        <td id=\"T_bea63426_66b5_11eb_8016_0242ac1c0002row10_col5\" class=\"data row10 col5\" >-0.16</td>\n",
              "                        <td id=\"T_bea63426_66b5_11eb_8016_0242ac1c0002row10_col6\" class=\"data row10 col6\" >-0.08</td>\n",
              "                        <td id=\"T_bea63426_66b5_11eb_8016_0242ac1c0002row10_col7\" class=\"data row10 col7\" >-0.05</td>\n",
              "                        <td id=\"T_bea63426_66b5_11eb_8016_0242ac1c0002row10_col8\" class=\"data row10 col8\" >-0.01</td>\n",
              "                        <td id=\"T_bea63426_66b5_11eb_8016_0242ac1c0002row10_col9\" class=\"data row10 col9\" >0.06</td>\n",
              "                        <td id=\"T_bea63426_66b5_11eb_8016_0242ac1c0002row10_col10\" class=\"data row10 col10\" >1.00</td>\n",
              "                        <td id=\"T_bea63426_66b5_11eb_8016_0242ac1c0002row10_col11\" class=\"data row10 col11\" >-0.01</td>\n",
              "                        <td id=\"T_bea63426_66b5_11eb_8016_0242ac1c0002row10_col12\" class=\"data row10 col12\" >0.07</td>\n",
              "                        <td id=\"T_bea63426_66b5_11eb_8016_0242ac1c0002row10_col13\" class=\"data row10 col13\" >0.07</td>\n",
              "                        <td id=\"T_bea63426_66b5_11eb_8016_0242ac1c0002row10_col14\" class=\"data row10 col14\" >0.09</td>\n",
              "            </tr>\n",
              "            <tr>\n",
              "                        <th id=\"T_bea63426_66b5_11eb_8016_0242ac1c0002level0_row11\" class=\"row_heading level0 row11\" >selfemp_Index</th>\n",
              "                        <td id=\"T_bea63426_66b5_11eb_8016_0242ac1c0002row11_col0\" class=\"data row11 col0\" >0.13</td>\n",
              "                        <td id=\"T_bea63426_66b5_11eb_8016_0242ac1c0002row11_col1\" class=\"data row11 col1\" >-0.02</td>\n",
              "                        <td id=\"T_bea63426_66b5_11eb_8016_0242ac1c0002row11_col2\" class=\"data row11 col2\" >0.12</td>\n",
              "                        <td id=\"T_bea63426_66b5_11eb_8016_0242ac1c0002row11_col3\" class=\"data row11 col3\" >-0.03</td>\n",
              "                        <td id=\"T_bea63426_66b5_11eb_8016_0242ac1c0002row11_col4\" class=\"data row11 col4\" >-0.00</td>\n",
              "                        <td id=\"T_bea63426_66b5_11eb_8016_0242ac1c0002row11_col5\" class=\"data row11 col5\" >0.11</td>\n",
              "                        <td id=\"T_bea63426_66b5_11eb_8016_0242ac1c0002row11_col6\" class=\"data row11 col6\" >0.05</td>\n",
              "                        <td id=\"T_bea63426_66b5_11eb_8016_0242ac1c0002row11_col7\" class=\"data row11 col7\" >0.00</td>\n",
              "                        <td id=\"T_bea63426_66b5_11eb_8016_0242ac1c0002row11_col8\" class=\"data row11 col8\" >-0.00</td>\n",
              "                        <td id=\"T_bea63426_66b5_11eb_8016_0242ac1c0002row11_col9\" class=\"data row11 col9\" >0.06</td>\n",
              "                        <td id=\"T_bea63426_66b5_11eb_8016_0242ac1c0002row11_col10\" class=\"data row11 col10\" >-0.01</td>\n",
              "                        <td id=\"T_bea63426_66b5_11eb_8016_0242ac1c0002row11_col11\" class=\"data row11 col11\" >1.00</td>\n",
              "                        <td id=\"T_bea63426_66b5_11eb_8016_0242ac1c0002row11_col12\" class=\"data row11 col12\" >0.00</td>\n",
              "                        <td id=\"T_bea63426_66b5_11eb_8016_0242ac1c0002row11_col13\" class=\"data row11 col13\" >0.01</td>\n",
              "                        <td id=\"T_bea63426_66b5_11eb_8016_0242ac1c0002row11_col14\" class=\"data row11 col14\" >0.00</td>\n",
              "            </tr>\n",
              "            <tr>\n",
              "                        <th id=\"T_bea63426_66b5_11eb_8016_0242ac1c0002level0_row12\" class=\"row_heading level0 row12\" >credit_Index</th>\n",
              "                        <td id=\"T_bea63426_66b5_11eb_8016_0242ac1c0002row12_col0\" class=\"data row12 col0\" >0.02</td>\n",
              "                        <td id=\"T_bea63426_66b5_11eb_8016_0242ac1c0002row12_col1\" class=\"data row12 col1\" >-0.01</td>\n",
              "                        <td id=\"T_bea63426_66b5_11eb_8016_0242ac1c0002row12_col2\" class=\"data row12 col2\" >0.00</td>\n",
              "                        <td id=\"T_bea63426_66b5_11eb_8016_0242ac1c0002row12_col3\" class=\"data row12 col3\" >0.00</td>\n",
              "                        <td id=\"T_bea63426_66b5_11eb_8016_0242ac1c0002row12_col4\" class=\"data row12 col4\" >-1.00</td>\n",
              "                        <td id=\"T_bea63426_66b5_11eb_8016_0242ac1c0002row12_col5\" class=\"data row12 col5\" >0.01</td>\n",
              "                        <td id=\"T_bea63426_66b5_11eb_8016_0242ac1c0002row12_col6\" class=\"data row12 col6\" >-0.02</td>\n",
              "                        <td id=\"T_bea63426_66b5_11eb_8016_0242ac1c0002row12_col7\" class=\"data row12 col7\" >0.01</td>\n",
              "                        <td id=\"T_bea63426_66b5_11eb_8016_0242ac1c0002row12_col8\" class=\"data row12 col8\" >0.01</td>\n",
              "                        <td id=\"T_bea63426_66b5_11eb_8016_0242ac1c0002row12_col9\" class=\"data row12 col9\" >0.04</td>\n",
              "                        <td id=\"T_bea63426_66b5_11eb_8016_0242ac1c0002row12_col10\" class=\"data row12 col10\" >0.07</td>\n",
              "                        <td id=\"T_bea63426_66b5_11eb_8016_0242ac1c0002row12_col11\" class=\"data row12 col11\" >0.00</td>\n",
              "                        <td id=\"T_bea63426_66b5_11eb_8016_0242ac1c0002row12_col12\" class=\"data row12 col12\" >1.00</td>\n",
              "                        <td id=\"T_bea63426_66b5_11eb_8016_0242ac1c0002row12_col13\" class=\"data row12 col13\" >0.03</td>\n",
              "                        <td id=\"T_bea63426_66b5_11eb_8016_0242ac1c0002row12_col14\" class=\"data row12 col14\" >0.54</td>\n",
              "            </tr>\n",
              "            <tr>\n",
              "                        <th id=\"T_bea63426_66b5_11eb_8016_0242ac1c0002level0_row13\" class=\"row_heading level0 row13\" >property_Index</th>\n",
              "                        <td id=\"T_bea63426_66b5_11eb_8016_0242ac1c0002row13_col0\" class=\"data row13 col0\" >0.02</td>\n",
              "                        <td id=\"T_bea63426_66b5_11eb_8016_0242ac1c0002row13_col1\" class=\"data row13 col1\" >0.02</td>\n",
              "                        <td id=\"T_bea63426_66b5_11eb_8016_0242ac1c0002row13_col2\" class=\"data row13 col2\" >0.03</td>\n",
              "                        <td id=\"T_bea63426_66b5_11eb_8016_0242ac1c0002row13_col3\" class=\"data row13 col3\" >-0.02</td>\n",
              "                        <td id=\"T_bea63426_66b5_11eb_8016_0242ac1c0002row13_col4\" class=\"data row13 col4\" >-0.03</td>\n",
              "                        <td id=\"T_bea63426_66b5_11eb_8016_0242ac1c0002row13_col5\" class=\"data row13 col5\" >0.03</td>\n",
              "                        <td id=\"T_bea63426_66b5_11eb_8016_0242ac1c0002row13_col6\" class=\"data row13 col6\" >0.01</td>\n",
              "                        <td id=\"T_bea63426_66b5_11eb_8016_0242ac1c0002row13_col7\" class=\"data row13 col7\" >-0.11</td>\n",
              "                        <td id=\"T_bea63426_66b5_11eb_8016_0242ac1c0002row13_col8\" class=\"data row13 col8\" >0.01</td>\n",
              "                        <td id=\"T_bea63426_66b5_11eb_8016_0242ac1c0002row13_col9\" class=\"data row13 col9\" >-0.00</td>\n",
              "                        <td id=\"T_bea63426_66b5_11eb_8016_0242ac1c0002row13_col10\" class=\"data row13 col10\" >0.07</td>\n",
              "                        <td id=\"T_bea63426_66b5_11eb_8016_0242ac1c0002row13_col11\" class=\"data row13 col11\" >0.01</td>\n",
              "                        <td id=\"T_bea63426_66b5_11eb_8016_0242ac1c0002row13_col12\" class=\"data row13 col12\" >0.03</td>\n",
              "                        <td id=\"T_bea63426_66b5_11eb_8016_0242ac1c0002row13_col13\" class=\"data row13 col13\" >1.00</td>\n",
              "                        <td id=\"T_bea63426_66b5_11eb_8016_0242ac1c0002row13_col14\" class=\"data row13 col14\" >0.14</td>\n",
              "            </tr>\n",
              "            <tr>\n",
              "                        <th id=\"T_bea63426_66b5_11eb_8016_0242ac1c0002level0_row14\" class=\"row_heading level0 row14\" >loanstatus_Index</th>\n",
              "                        <td id=\"T_bea63426_66b5_11eb_8016_0242ac1c0002row14_col0\" class=\"data row14 col0\" >0.00</td>\n",
              "                        <td id=\"T_bea63426_66b5_11eb_8016_0242ac1c0002row14_col1\" class=\"data row14 col1\" >0.06</td>\n",
              "                        <td id=\"T_bea63426_66b5_11eb_8016_0242ac1c0002row14_col2\" class=\"data row14 col2\" >0.04</td>\n",
              "                        <td id=\"T_bea63426_66b5_11eb_8016_0242ac1c0002row14_col3\" class=\"data row14 col3\" >0.02</td>\n",
              "                        <td id=\"T_bea63426_66b5_11eb_8016_0242ac1c0002row14_col4\" class=\"data row14 col4\" >-0.54</td>\n",
              "                        <td id=\"T_bea63426_66b5_11eb_8016_0242ac1c0002row14_col5\" class=\"data row14 col5\" >0.03</td>\n",
              "                        <td id=\"T_bea63426_66b5_11eb_8016_0242ac1c0002row14_col6\" class=\"data row14 col6\" >0.01</td>\n",
              "                        <td id=\"T_bea63426_66b5_11eb_8016_0242ac1c0002row14_col7\" class=\"data row14 col7\" >0.02</td>\n",
              "                        <td id=\"T_bea63426_66b5_11eb_8016_0242ac1c0002row14_col8\" class=\"data row14 col8\" >0.09</td>\n",
              "                        <td id=\"T_bea63426_66b5_11eb_8016_0242ac1c0002row14_col9\" class=\"data row14 col9\" >-0.01</td>\n",
              "                        <td id=\"T_bea63426_66b5_11eb_8016_0242ac1c0002row14_col10\" class=\"data row14 col10\" >0.09</td>\n",
              "                        <td id=\"T_bea63426_66b5_11eb_8016_0242ac1c0002row14_col11\" class=\"data row14 col11\" >0.00</td>\n",
              "                        <td id=\"T_bea63426_66b5_11eb_8016_0242ac1c0002row14_col12\" class=\"data row14 col12\" >0.54</td>\n",
              "                        <td id=\"T_bea63426_66b5_11eb_8016_0242ac1c0002row14_col13\" class=\"data row14 col13\" >0.14</td>\n",
              "                        <td id=\"T_bea63426_66b5_11eb_8016_0242ac1c0002row14_col14\" class=\"data row14 col14\" >1.00</td>\n",
              "            </tr>\n",
              "    </tbody></table>"
            ],
            "text/plain": [
              "<pandas.io.formats.style.Styler at 0x7fa3a92f3be0>"
            ]
          },
          "metadata": {
            "tags": []
          },
          "execution_count": 76
        }
      ]
    },
    {
      "cell_type": "code",
      "metadata": {
        "id": "BO9wGlFUe1a8"
      },
      "source": [
        "# VectorAssembler — a feature transformer that merges multiple columns into a vector column\r\n",
        "\r\n",
        "from pyspark.ml.feature import VectorAssembler\r\n",
        "\r\n",
        "# specify the input and output columns of the vector assembler\r\n",
        "assembler = VectorAssembler(inputCols=['gender_Index','married_Index','dependents_Index',\r\n",
        "                                       'education_Index','selfemp_Index','ApplicantIncome',\r\n",
        "                                       'CoapplicantIncome','EMI','LoanAmount','Loan_Amount_Term',\r\n",
        "                                       'credit_Index','property_Index','gender_OHE',\r\n",
        "                                       'married_OHE','dependents_OHE','education_OHE',\r\n",
        "                                       'selfemp_OHE','credit_OHE','property_OHE'],\r\n",
        "                           outputCol='features')\r\n",
        "\r\n",
        "# transform the data\r\n",
        "df2 = assembler.transform(df)"
      ],
      "execution_count": null,
      "outputs": []
    },
    {
      "cell_type": "code",
      "metadata": {
        "colab": {
          "base_uri": "https://localhost:8080/"
        },
        "id": "nsEC21b7glff",
        "outputId": "677de48a-c588-4f1a-8d8c-2a4d73b3233a"
      },
      "source": [
        "# view the transformed vector\r\n",
        "df2.select('features','loanstatus_Index').show(5)"
      ],
      "execution_count": null,
      "outputs": [
        {
          "output_type": "stream",
          "text": [
            "+--------------------+----------------+\n",
            "|            features|loanstatus_Index|\n",
            "+--------------------+----------------+\n",
            "|(22,[1,5,7,8,9,11...|             0.0|\n",
            "|(22,[2,5,6,7,8,9,...|             1.0|\n",
            "|(22,[4,5,7,8,9,11...|             0.0|\n",
            "|(22,[3,5,6,7,8,9,...|             0.0|\n",
            "|(22,[1,5,7,8,9,11...|             0.0|\n",
            "+--------------------+----------------+\n",
            "only showing top 5 rows\n",
            "\n"
          ],
          "name": "stdout"
        }
      ]
    },
    {
      "cell_type": "code",
      "metadata": {
        "colab": {
          "base_uri": "https://localhost:8080/"
        },
        "id": "pbKfSYLtgwcp",
        "outputId": "47a1633f-1ef4-449d-e2e2-8ba33f28708f"
      },
      "source": [
        "# view the transformed vector\r\n",
        "df2.select('features','loanstatus_OHE').show(5)"
      ],
      "execution_count": null,
      "outputs": [
        {
          "output_type": "stream",
          "text": [
            "+--------------------+--------------+\n",
            "|            features|loanstatus_OHE|\n",
            "+--------------------+--------------+\n",
            "|(22,[1,5,7,8,9,11...| (1,[0],[1.0])|\n",
            "|(22,[2,5,6,7,8,9,...|     (1,[],[])|\n",
            "|(22,[4,5,7,8,9,11...| (1,[0],[1.0])|\n",
            "|(22,[3,5,6,7,8,9,...| (1,[0],[1.0])|\n",
            "|(22,[1,5,7,8,9,11...| (1,[0],[1.0])|\n",
            "+--------------------+--------------+\n",
            "only showing top 5 rows\n",
            "\n"
          ],
          "name": "stdout"
        }
      ]
    },
    {
      "cell_type": "code",
      "metadata": {
        "colab": {
          "base_uri": "https://localhost:8080/"
        },
        "id": "NB50xtrzg5pk",
        "outputId": "08ff7712-b9da-41a1-da5e-f9cbe243ca48"
      },
      "source": [
        "#Model_Dataframe\r\n",
        "\r\n",
        "model_df = df2.select(['features','loanstatus_Index'])\r\n",
        "model_df = model_df.withColumnRenamed('loanstatus_Index','label')\r\n",
        "model_df.printSchema()"
      ],
      "execution_count": null,
      "outputs": [
        {
          "output_type": "stream",
          "text": [
            "root\n",
            " |-- features: vector (nullable = true)\n",
            " |-- label: double (nullable = false)\n",
            "\n"
          ],
          "name": "stdout"
        }
      ]
    },
    {
      "cell_type": "code",
      "metadata": {
        "colab": {
          "base_uri": "https://localhost:8080/"
        },
        "id": "ouW-GnDdhzh5",
        "outputId": "923bdfb9-10bb-4004-b21c-317baf3124e3"
      },
      "source": [
        "#Split into training & testing Dataframe\r\n",
        "(train_data, test_data) = model_df.randomSplit([0.7, 0.3], 20) # random state - 20\r\n",
        "\r\n",
        "print(\"Records for training: \" + str(train_data.count()))\r\n",
        "print(\"Records for evaluation: \" + str(test_data.count()))"
      ],
      "execution_count": null,
      "outputs": [
        {
          "output_type": "stream",
          "text": [
            "Records for training: 432\n",
            "Records for evaluation: 182\n"
          ],
          "name": "stdout"
        }
      ]
    },
    {
      "cell_type": "markdown",
      "metadata": {
        "id": "jUD6Srgn2okE"
      },
      "source": [
        "## Decision Tree Classifier"
      ]
    },
    {
      "cell_type": "code",
      "metadata": {
        "colab": {
          "base_uri": "https://localhost:8080/"
        },
        "id": "0U2CknLsy6bj",
        "outputId": "71d5177e-5348-4c72-822c-ab447cc7ba95"
      },
      "source": [
        "from pyspark.ml.classification import DecisionTreeClassifier\r\n",
        "\r\n",
        "dt = DecisionTreeClassifier(featuresCol = 'features', \r\n",
        "                            labelCol = 'label', maxDepth = 3)\r\n",
        "dtModel = dt.fit(train_data)\r\n",
        "predictions = dtModel.transform(test_data)\r\n",
        "predictions.show(10)"
      ],
      "execution_count": null,
      "outputs": [
        {
          "output_type": "stream",
          "text": [
            "+--------------------+-----+-------------+--------------------+----------+\n",
            "|            features|label|rawPrediction|         probability|prediction|\n",
            "+--------------------+-----+-------------+--------------------+----------+\n",
            "|(22,[0,1,2,3,5,7,...|  1.0| [287.0,72.0]|[0.79944289693593...|       0.0|\n",
            "|(22,[0,1,2,5,7,8,...|  1.0| [287.0,72.0]|[0.79944289693593...|       0.0|\n",
            "|(22,[0,1,2,5,7,8,...|  1.0| [287.0,72.0]|[0.79944289693593...|       0.0|\n",
            "|(22,[0,1,3,4,5,7,...|  0.0| [287.0,72.0]|[0.79944289693593...|       0.0|\n",
            "|(22,[0,1,3,5,7,8,...|  0.0| [287.0,72.0]|[0.79944289693593...|       0.0|\n",
            "|(22,[0,1,3,5,7,8,...|  0.0| [287.0,72.0]|[0.79944289693593...|       0.0|\n",
            "|(22,[0,1,4,5,7,8,...|  0.0| [287.0,72.0]|[0.79944289693593...|       0.0|\n",
            "|(22,[0,1,5,6,7,8,...|  0.0| [287.0,72.0]|[0.79944289693593...|       0.0|\n",
            "|(22,[0,1,5,6,7,8,...|  0.0| [287.0,72.0]|[0.79944289693593...|       0.0|\n",
            "|(22,[0,1,5,7,8,9,...|  1.0|   [6.0,56.0]|[0.09677419354838...|       1.0|\n",
            "+--------------------+-----+-------------+--------------------+----------+\n",
            "only showing top 10 rows\n",
            "\n"
          ],
          "name": "stdout"
        }
      ]
    },
    {
      "cell_type": "code",
      "metadata": {
        "colab": {
          "base_uri": "https://localhost:8080/"
        },
        "id": "MiIqCpWI29pm",
        "outputId": "77a5ed63-f986-42df-88aa-a45b3d0ea7cb"
      },
      "source": [
        "from pyspark.ml.evaluation import BinaryClassificationEvaluator\r\n",
        "\r\n",
        "evaluator = BinaryClassificationEvaluator()\r\n",
        "print(\"Decision Tree - Test set AUC: \" + str(evaluator.evaluate\r\n",
        "                                        (predictions,\r\n",
        "                                         {evaluator.metricName: \"areaUnderROC\"})))"
      ],
      "execution_count": null,
      "outputs": [
        {
          "output_type": "stream",
          "text": [
            "Decision Tree - Test set AUC: 0.3090934371523915\n"
          ],
          "name": "stdout"
        }
      ]
    },
    {
      "cell_type": "markdown",
      "metadata": {
        "id": "bjLJH_4g4QWs"
      },
      "source": [
        "Decision tree performed poorly because it is too weak given the range of different features. The prediction accuracy of decision trees can be improved by Ensemble methods, such as Random Forest."
      ]
    },
    {
      "cell_type": "markdown",
      "metadata": {
        "id": "Cw6v1Ult4WME"
      },
      "source": [
        "## Random Forest Classifier"
      ]
    },
    {
      "cell_type": "code",
      "metadata": {
        "colab": {
          "base_uri": "https://localhost:8080/"
        },
        "id": "jz9XWwry4Xbt",
        "outputId": "3a9fd77c-6fbb-4266-921c-a689f4813132"
      },
      "source": [
        "from pyspark.ml.classification import RandomForestClassifier\r\n",
        "\r\n",
        "rf = RandomForestClassifier(featuresCol = 'features', labelCol = 'label')\r\n",
        "rfModel = rf.fit(train_data)\r\n",
        "predictions = rfModel.transform(test_data)\r\n",
        "predictions.show(10)"
      ],
      "execution_count": null,
      "outputs": [
        {
          "output_type": "stream",
          "text": [
            "+--------------------+-----+--------------------+--------------------+----------+\n",
            "|            features|label|       rawPrediction|         probability|prediction|\n",
            "+--------------------+-----+--------------------+--------------------+----------+\n",
            "|(22,[0,1,2,3,5,7,...|  1.0|[12.6286060737212...|[0.63143030368606...|       0.0|\n",
            "|(22,[0,1,2,5,7,8,...|  1.0|[16.499206537876,...|[0.8249603268938,...|       0.0|\n",
            "|(22,[0,1,2,5,7,8,...|  1.0|[16.4430341032489...|[0.82215170516244...|       0.0|\n",
            "|(22,[0,1,3,4,5,7,...|  0.0|[14.3329363952023...|[0.71664681976011...|       0.0|\n",
            "|(22,[0,1,3,5,7,8,...|  0.0|[13.5536239605242...|[0.67768119802621...|       0.0|\n",
            "|(22,[0,1,3,5,7,8,...|  0.0|[15.1864231058233...|[0.75932115529116...|       0.0|\n",
            "|(22,[0,1,4,5,7,8,...|  0.0|[15.9895423162297...|[0.79947711581148...|       0.0|\n",
            "|(22,[0,1,5,6,7,8,...|  0.0|[14.8615073803184...|[0.74307536901592...|       0.0|\n",
            "|(22,[0,1,5,6,7,8,...|  0.0|[15.6651389399481...|[0.78325694699740...|       0.0|\n",
            "|(22,[0,1,5,7,8,9,...|  1.0|[2.63652398499703...|[0.13182619924985...|       1.0|\n",
            "+--------------------+-----+--------------------+--------------------+----------+\n",
            "only showing top 10 rows\n",
            "\n"
          ],
          "name": "stdout"
        }
      ]
    },
    {
      "cell_type": "code",
      "metadata": {
        "colab": {
          "base_uri": "https://localhost:8080/"
        },
        "id": "wtZv3UXk4ggX",
        "outputId": "5c03ed38-f36f-415b-e48c-ad9931c3272a"
      },
      "source": [
        "from pyspark.ml.evaluation import BinaryClassificationEvaluator\r\n",
        "\r\n",
        "evaluator = BinaryClassificationEvaluator()\r\n",
        "print(\"Random Forest - Test set AUC: \" + str(evaluator.evaluate\r\n",
        "                                        (predictions, \r\n",
        "                                         {evaluator.metricName: \"areaUnderROC\"})))"
      ],
      "execution_count": null,
      "outputs": [
        {
          "output_type": "stream",
          "text": [
            "Random Forest - Test set AUC: 0.7291434927697449\n"
          ],
          "name": "stdout"
        }
      ]
    },
    {
      "cell_type": "markdown",
      "metadata": {
        "id": "U9p5Zf7xiNn6"
      },
      "source": [
        "## Logistic Regression"
      ]
    },
    {
      "cell_type": "code",
      "metadata": {
        "id": "DEK4ZtJ6y6G0"
      },
      "source": [
        "from pyspark.ml.classification import LogisticRegression\r\n",
        "\r\n",
        "lr = LogisticRegression(featuresCol = 'features', labelCol = 'label', maxIter=10)\r\n",
        "lrModel = lr.fit(train_data)"
      ],
      "execution_count": null,
      "outputs": []
    },
    {
      "cell_type": "code",
      "metadata": {
        "colab": {
          "base_uri": "https://localhost:8080/"
        },
        "id": "SJXrHe1_y6Lk",
        "outputId": "c8f48d9b-2c41-4fbd-a255-ea225b7a5998"
      },
      "source": [
        "trainingSummary = lrModel.summary\r\n",
        "print('Training set Area Under ROC: ' + str(trainingSummary.areaUnderROC))\r\n",
        "print('Training set Accuracy: ' + str(trainingSummary.accuracy))\r\n",
        "print('Training set Precision by label: ' + str(trainingSummary.precisionByLabel))\r\n",
        "print('Training set Recall by label: ' + str(trainingSummary.recallByLabel))"
      ],
      "execution_count": null,
      "outputs": [
        {
          "output_type": "stream",
          "text": [
            "Training set Area Under ROC: 0.7926975858960232\n",
            "Training set Accuracy: 0.8078703703703703\n",
            "Training set Precision by label: [0.7945205479452054, 0.8805970149253731]\n",
            "Training set Recall by label: [0.9731543624161074, 0.44029850746268656]\n"
          ],
          "name": "stdout"
        }
      ]
    },
    {
      "cell_type": "code",
      "metadata": {
        "colab": {
          "base_uri": "https://localhost:8080/"
        },
        "id": "MEddWY1_y6Ob",
        "outputId": "33f18b65-9484-473f-ab89-885ad61a0567"
      },
      "source": [
        "# make predictions on the test set\r\n",
        "\r\n",
        "predictions = lrModel.transform(test_data)\r\n",
        "predictions.show(10)"
      ],
      "execution_count": null,
      "outputs": [
        {
          "output_type": "stream",
          "text": [
            "+--------------------+-----+--------------------+--------------------+----------+\n",
            "|            features|label|       rawPrediction|         probability|prediction|\n",
            "+--------------------+-----+--------------------+--------------------+----------+\n",
            "|(22,[0,1,2,3,5,7,...|  1.0|[0.78904708375588...|[0.68762668437335...|       0.0|\n",
            "|(22,[0,1,2,5,7,8,...|  1.0|[1.66524299455948...|[0.84094055781806...|       0.0|\n",
            "|(22,[0,1,2,5,7,8,...|  1.0|[1.80955901699595...|[0.85930856903532...|       0.0|\n",
            "|(22,[0,1,3,4,5,7,...|  0.0|[0.63039853177382...|[0.65257982256991...|       0.0|\n",
            "|(22,[0,1,3,5,7,8,...|  0.0|[1.41029604989753...|[0.80381263427558...|       0.0|\n",
            "|(22,[0,1,3,5,7,8,...|  0.0|[1.35314378218824...|[0.79464312287173...|       0.0|\n",
            "|(22,[0,1,4,5,7,8,...|  0.0|[0.73216193140641...|[0.67527951413951...|       0.0|\n",
            "|(22,[0,1,5,6,7,8,...|  0.0|[1.19243922084925...|[0.76717703306232...|       0.0|\n",
            "|(22,[0,1,5,6,7,8,...|  0.0|[1.15358563649834...|[0.76016523854420...|       0.0|\n",
            "|(22,[0,1,5,7,8,9,...|  1.0|[-2.4136236816930...|[0.08213970471032...|       1.0|\n",
            "+--------------------+-----+--------------------+--------------------+----------+\n",
            "only showing top 10 rows\n",
            "\n"
          ],
          "name": "stdout"
        }
      ]
    },
    {
      "cell_type": "code",
      "metadata": {
        "colab": {
          "base_uri": "https://localhost:8080/"
        },
        "id": "ZrWSRFwv2P6O",
        "outputId": "66f358d8-449e-4df5-9041-d697b70a512f"
      },
      "source": [
        "predictions.select('label','prediction').show(20)"
      ],
      "execution_count": null,
      "outputs": [
        {
          "output_type": "stream",
          "text": [
            "+-----+----------+\n",
            "|label|prediction|\n",
            "+-----+----------+\n",
            "|  1.0|       0.0|\n",
            "|  1.0|       0.0|\n",
            "|  1.0|       0.0|\n",
            "|  0.0|       0.0|\n",
            "|  0.0|       0.0|\n",
            "|  0.0|       0.0|\n",
            "|  0.0|       0.0|\n",
            "|  0.0|       0.0|\n",
            "|  0.0|       0.0|\n",
            "|  1.0|       1.0|\n",
            "|  1.0|       1.0|\n",
            "|  0.0|       0.0|\n",
            "|  0.0|       0.0|\n",
            "|  0.0|       0.0|\n",
            "|  0.0|       0.0|\n",
            "|  1.0|       0.0|\n",
            "|  0.0|       0.0|\n",
            "|  0.0|       0.0|\n",
            "|  0.0|       0.0|\n",
            "|  1.0|       1.0|\n",
            "+-----+----------+\n",
            "only showing top 20 rows\n",
            "\n"
          ],
          "name": "stdout"
        }
      ]
    },
    {
      "cell_type": "code",
      "metadata": {
        "colab": {
          "base_uri": "https://localhost:8080/"
        },
        "id": "UJ0aFRjny6Ta",
        "outputId": "8df18f62-a97a-41e5-c2af-ca2b84bb7b58"
      },
      "source": [
        "# evaluating Logistic Regression model\r\n",
        "\r\n",
        "from pyspark.ml.evaluation import BinaryClassificationEvaluator\r\n",
        "\r\n",
        "evaluator = BinaryClassificationEvaluator()\r\n",
        "print('Logistic Regression - Test set AUC: ', evaluator.evaluate(predictions))"
      ],
      "execution_count": null,
      "outputs": [
        {
          "output_type": "stream",
          "text": [
            "Logistic Regression - Test set AUC:  0.762931034482759\n"
          ],
          "name": "stdout"
        }
      ]
    },
    {
      "cell_type": "markdown",
      "metadata": {
        "id": "nPWEafZU5-Mg"
      },
      "source": [
        "From the Exploratory Data Analysis, we could generate insight from the data - how each of the features are related to the target. \r\n",
        "\r\n",
        "Also, it can be seen from the evaluation of three models that Logistic Regression performed better than others, and Random Forest did better than Decision Tree.\r\n",
        "\r\n",
        "Logistic Regression gives us the highest value of AUC. Thus we will consider this for model building.\r\n",
        "\r\n",
        "So we have built a robust model which can predict whether to provide loan or not to an applicant."
      ]
    }
  ]
}